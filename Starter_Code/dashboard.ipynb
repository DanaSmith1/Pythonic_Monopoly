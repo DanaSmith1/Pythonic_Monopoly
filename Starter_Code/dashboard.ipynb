{
 "cells": [
  {
   "cell_type": "markdown",
   "metadata": {},
   "source": [
    "# San Francisco Rental Prices Dashboard\n",
    "\n",
    "In this notebook, you will compile the visualizations from the previous analysis into functions that can be used for a Panel dashboard."
   ]
  },
  {
   "cell_type": "code",
   "execution_count": 14,
   "metadata": {},
   "outputs": [],
   "source": [
    "# imports\n",
    "import panel as pn\n",
    "pn.extension('plotly')\n",
    "import plotly.express as px\n",
    "import pandas as pd\n",
    "import hvplot.pandas\n",
    "import matplotlib.pyplot as plt\n",
    "import os\n",
    "from pathlib import Path\n",
    "from dotenv import load_dotenv"
   ]
  },
  {
   "cell_type": "code",
   "execution_count": 15,
   "metadata": {},
   "outputs": [],
   "source": [
    "# Read the Mapbox API key\n",
    "load_dotenv()\n",
    "map_box_api = os.getenv(\"mapbox\")\n",
    "px.set_mapbox_access_token(\"MAPBOX_TOKEN\")"
   ]
  },
  {
   "cell_type": "markdown",
   "metadata": {},
   "source": [
    "# Import Data"
   ]
  },
  {
   "cell_type": "code",
   "execution_count": 16,
   "metadata": {},
   "outputs": [],
   "source": [
    "# Import the necessary CSVs to Pandas DataFrames\n",
    "file_path = Path(\"Data/sfo_neighborhoods_census_data.csv\")\n",
    "sfo_data = pd.read_csv(file_path, index_col=\"year\")\n",
    "\n",
    "file_path2 = Path(\"Data/neighborhoods_coordinates.csv\")\n",
    "neighborhood_loc = pd.read_csv(file_path2)"
   ]
  },
  {
   "cell_type": "markdown",
   "metadata": {},
   "source": [
    "- - -"
   ]
  },
  {
   "cell_type": "markdown",
   "metadata": {},
   "source": [
    "## Panel Visualizations\n",
    "\n",
    "In this section, you will copy the code for each plot type from your analysis notebook and place it into separate functions that Panel can use to create panes for the dashboard. \n",
    "\n",
    "These functions will convert the plot object to a Panel pane.\n",
    "\n",
    "Be sure to include any DataFrame transformation/manipulation code required along with the plotting code.\n",
    "\n",
    "Return a Panel pane object from each function that can be used to build the dashboard.\n",
    "\n",
    "Note: Remove any `.show()` lines from the code. We want to return the plots instead of showing them. The Panel dashboard will then display the plots."
   ]
  },
  {
   "cell_type": "code",
<<<<<<< HEAD
   "execution_count": 17,
=======
   "execution_count": 69,
   "metadata": {},
   "outputs": [],
   "source": [
    "# Define Panel Visualization Functions\n",
    "# sfo_census_data\n",
    "# \"\"\"Housing Units Per Year.\"\"\"\n",
    "def housing_units_per_year(sfo_census_data):\n",
    "    \n",
    "    units_per_year = sfo_census_data[\"housing_units\"].groupby(['year']).mean()\n",
    "    units_per_year_plot =  units_per_year.hvplot(\n",
    "        kind='bar',\n",
    "        ylim=(\n",
    "        372000, 389000),\n",
    "        title='Houseing Unites Per Year')\n",
    "    \n",
    "    return pn.panel(housing_units_per_year_plot)\n"
   ]
  },
  {
   "cell_type": "code",
   "execution_count": 70,
   "metadata": {},
   "outputs": [
    {
     "ename": "SyntaxError",
     "evalue": "invalid syntax (Temp/ipykernel_20500/347156707.py, line 15)",
     "output_type": "error",
     "traceback": [
      "\u001b[1;36m  File \u001b[1;32m\"C:\\Users\\Dana0\\AppData\\Local\\Temp/ipykernel_20500/347156707.py\"\u001b[1;36m, line \u001b[1;32m15\u001b[0m\n\u001b[1;33m    return pn.panel(gross_rent_fig)\u001b[0m\n\u001b[1;37m         ^\u001b[0m\n\u001b[1;31mSyntaxError\u001b[0m\u001b[1;31m:\u001b[0m invalid syntax\n"
     ]
    }
   ],
   "source": [
    "# Define Panel Visualization Functions\n",
    "# sfo_census_data\n",
    "def average_gross_rent(sfo_census_data):\n",
    "# \"\"\"Average Gross Rent in San Francisco Per Year.\"\"\"    \n",
    "\n",
    "    avg_rent = sfo_census_data[\"gross_rent\"].groupby(\n",
    "        [sfo_census_data.index]).mean()\n",
    "    gross_rent_plot = plt.figure()\n",
    "    avg_rent_plot = (average_rent_sqr_foot.plot.line(\n",
    "        x='year',\n",
    "        y='gross_rent_fig',\n",
    "        title='Average Gross Rent Per Year'\n",
    ")\n",
    "\n",
    "    return pn.panel(gross_rent_fig)"
   ]
  },
  {
   "cell_type": "code",
   "execution_count": 54,
   "metadata": {},
   "outputs": [
    {
     "data": {
      "text/plain": [
       "'Average Sales Price Per Year.'"
      ]
     },
     "execution_count": 54,
     "metadata": {},
     "output_type": "execute_result"
    }
   ],
   "source": [
    "def average_sales_price(sfo_census_data):\n",
    "\"\"\"Average Sales Price Per Year.\"\"\"    \n",
    "\n",
    "    average_price_sqr_foot = sfo_census_data['sale_price_sqr_foot'].groupby(\n",
    "        sfo_census_data.index).mean()\n",
    "    \n",
    "    sales_price_fig = plt.figure()\n",
    "    average_sales_price_plot = (average_price_sqr_foot.plot.line(\n",
    "        x='year',\n",
    "        y='sale_price_sqr_foot',\n",
    "        title=\"Average Sales Price per Year\")\n",
    ")\n",
    "    plt.close(sales_price_fig)\n",
    "    \n",
    "    return pn.panel(sales_price_fig)"
   ]
  },
  {
   "cell_type": "code",
   "execution_count": 58,
   "metadata": {},
   "outputs": [
    {
     "data": {
      "text/plain": [
       "'Average Prices by Neighborhood.'"
      ]
     },
     "execution_count": 58,
     "metadata": {},
     "output_type": "execute_result"
    }
   ],
   "source": [
    "def average_price_by_neighborhood(sfo_census_data):\n",
    "    \n",
    "    avg_neighborhood_price = sfo_census_data.groupby([sfo_census_data.index,\n",
    "        \"neighborhood\"]).mean()\n",
    "    avg_neighborhood_price.reset_index(inplace=True)\n",
    "    avg_neighborhood_price_plot = avg_neighborhood_price.hvplot(\n",
    "        \"year\",\n",
    "        \"sale_price_sqr_foot\",\n",
    "        xlabel='Year',\n",
    "        ylabel='Average Sale Price Per Square Foot',\n",
    "        groupby='neighborhood',\n",
    ")\n",
    "\n",
    "    return  avg_neighborhood_price_plot\n",
    "\n",
    "\"\"\"Average Prices by Neighborhood.\"\"\""
   ]
  },
  {
   "cell_type": "code",
   "execution_count": 61,
   "metadata": {},
   "outputs": [
    {
     "ename": "NameError",
     "evalue": "name 'top_ten_plot' is not defined",
     "output_type": "error",
     "traceback": [
      "\u001b[1;31m---------------------------------------------------------------------------\u001b[0m",
      "\u001b[1;31mNameError\u001b[0m                                 Traceback (most recent call last)",
      "\u001b[1;32m~\\AppData\\Local\\Temp/ipykernel_20500/2807674155.py\u001b[0m in \u001b[0;36m<module>\u001b[1;34m\u001b[0m\n\u001b[0;32m      8\u001b[0m     \u001b[1;32mreturn\u001b[0m \u001b[0mtop_ten_plot\u001b[0m\u001b[1;33m\u001b[0m\u001b[1;33m\u001b[0m\u001b[0m\n\u001b[0;32m      9\u001b[0m \u001b[1;33m\u001b[0m\u001b[0m\n\u001b[1;32m---> 10\u001b[1;33m \u001b[0mtop_ten_plot\u001b[0m\u001b[1;33m.\u001b[0m\u001b[0mhead\u001b[0m\u001b[1;33m(\u001b[0m\u001b[1;33m)\u001b[0m\u001b[1;33m\u001b[0m\u001b[1;33m\u001b[0m\u001b[0m\n\u001b[0m\u001b[0;32m     11\u001b[0m \u001b[1;33m\u001b[0m\u001b[0m\n\u001b[0;32m     12\u001b[0m \u001b[1;34m\"\"\"Top 10 Most Expensive Neighborhoods.\"\"\"\u001b[0m\u001b[1;33m\u001b[0m\u001b[1;33m\u001b[0m\u001b[0m\n",
      "\u001b[1;31mNameError\u001b[0m: name 'top_ten_plot' is not defined"
     ]
    }
   ],
   "source": [
    "def top_most_expensive_neighborhoods(neighborhoods_coordinates):\n",
    "    \n",
    "    top_most_expensive_neighborhoods = avg_by_neighborhood[['sale_price_sqr_foot', 'neighborhood', 'gross_rent']].groupby(['neighborhood']).mean().sort_values('sale_price_sqr_foot', ascending=False)\n",
    "    top_ten = sorted_avg.iloc[0:10]\n",
    "    top_ten_plot = top_ten.hvplot(kind='bar', x='neighborhood', y='sale_price_sqr_foot', rot=90, title='Most Expensive Neighborhoods')\n",
    "    top_ten_plot = pn.panel(top_ten_plot)\n",
    "    \n",
    "    return top_ten_plot\n",
    "\n",
    "top_ten_plot.head()\n",
    "\n",
    "\"\"\"Top 10 Most Expensive Neighborhoods.\"\"\""
   ]
  },
  {
   "cell_type": "code",
   "execution_count": 59,
>>>>>>> 450322247ddb4497bb3b8459888b922717b7a1e3
   "metadata": {},
   "outputs": [],
   "source": [
    "# Define Panel Visualization Functions\n",
    "def housing_units_per_year():\n",
    "    \"\"\"Housing Units Per Year.\"\"\"\n",
    "    \n",
    "    housing_df = sfo_data[\"housing_units\"].groupby(sfo_data.index).mean()\n",
    "    housing_units_fig = plt.figure()\n",
    "    plot_housing_units = housing_df.plot.bar()\n",
    "    plot_housing_units.set_xlabel(\"Year\", fontsize=12)\n",
    "    plot_housing_units.set_ylabel(\"Housing Units\", fontsize=12)\n",
    "    plot_housing_units.set_title(\"Housing Units in San Francisco from 2010 to 2016\", fontsize=14, fontweight=\"bold\")\n",
    "    plt.close(housing_units_fig)\n",
    "    return pn.pane.Matplotlib(housing_units_fig, tight=True)"
   ]
  },
  {
   "cell_type": "code",
   "execution_count": 18,
   "metadata": {},
   "outputs": [
    {
     "data": {
      "image/png": "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\n",
      "text/plain": [
       "<Figure size 432x288 with 1 Axes>"
      ]
     },
     "metadata": {
      "needs_background": "light"
     },
     "output_type": "display_data"
    }
   ],
   "source": [
    "# Define Panel Visualization Functions\n",
    "def average_gross_rent():\n",
    "    \"\"\"Average Gross Rent in San Francisco Per Year.\"\"\"\n",
    "    \n",
    "average_cost_df = sfo_data[[\"sale_price_sqr_foot\",\"gross_rent\"]].groupby(sfo_data.index).mean()\n",
    "average_cost_df    \n",
    "fig = plt.figure()\n",
    "plot_average_price = average_cost_df[\"gross_rent\"].plot(color=\"red\")\n",
    "plot_average_price.set_xlabel(\"Year\", fontsize=12)\n",
    "plot_average_price.set_ylabel(\"Price per SqFt\", fontsize=12)\n",
    "plot_average_price.set_title(\"Average Gross Rent by Year\", fontsize=14, fontweight=\"bold\")\n",
    "\n",
    "plt.show()\n",
    "plt.close(fig)"
   ]
  },
  {
   "cell_type": "code",
   "execution_count": 19,
   "metadata": {},
   "outputs": [
    {
     "data": {
      "image/png": "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\n",
      "text/plain": [
       "<Figure size 432x288 with 1 Axes>"
      ]
     },
     "metadata": {
      "needs_background": "light"
     },
     "output_type": "display_data"
    }
   ],
   "source": [
    "def average_sales_price():\n",
    "    \"\"\"Average Sales Price Per Year.\"\"\"\n",
    "    \n",
    "fig = plt.figure()\n",
    "plot_average_price = average_cost_df[\"sale_price_sqr_foot\"].plot(color=\"purple\")\n",
    "plot_average_price.set_xlabel(\"Year\", fontsize=12)\n",
    "plot_average_price.set_ylabel(\"Price per SqFt\", fontsize=12)\n",
    "plot_average_price.set_title(\"Average Price per SqFt by Year\", fontsize=14, fontweight=\"bold\")\n",
    "\n",
    "plt.show()\n",
    "plt.close(fig)"
   ]
  },
  {
   "cell_type": "code",
   "execution_count": 20,
   "metadata": {},
   "outputs": [
    {
     "data": {},
     "metadata": {},
     "output_type": "display_data"
    },
    {
     "data": {
      "application/vnd.holoviews_exec.v0+json": "",
      "text/html": [
       "<div id='1449'>\n",
       "\n",
       "\n",
       "\n",
       "\n",
       "\n",
       "  <div class=\"bk-root\" id=\"67423014-ffee-4319-ad17-bd14463e9a83\" data-root-id=\"1449\"></div>\n",
       "</div>\n",
       "<script type=\"application/javascript\">(function(root) {\n",
       "  function embed_document(root) {\n",
       "    var docs_json = {\"ab6f6cf3-22bb-4eaf-b5b8-584814a98086\":{\"defs\":[{\"extends\":null,\"module\":null,\"name\":\"ReactiveHTML1\",\"overrides\":[],\"properties\":[]},{\"extends\":null,\"module\":null,\"name\":\"FlexBox1\",\"overrides\":[],\"properties\":[{\"default\":\"flex-start\",\"kind\":null,\"name\":\"align_content\"},{\"default\":\"flex-start\",\"kind\":null,\"name\":\"align_items\"},{\"default\":\"row\",\"kind\":null,\"name\":\"flex_direction\"},{\"default\":\"wrap\",\"kind\":null,\"name\":\"flex_wrap\"},{\"default\":\"flex-start\",\"kind\":null,\"name\":\"justify_content\"}]},{\"extends\":null,\"module\":null,\"name\":\"TemplateActions1\",\"overrides\":[],\"properties\":[{\"default\":0,\"kind\":null,\"name\":\"open_modal\"},{\"default\":0,\"kind\":null,\"name\":\"close_modal\"}]},{\"extends\":null,\"module\":null,\"name\":\"MaterialTemplateActions1\",\"overrides\":[],\"properties\":[{\"default\":0,\"kind\":null,\"name\":\"open_modal\"},{\"default\":0,\"kind\":null,\"name\":\"close_modal\"}]}],\"roots\":{\"references\":[{\"attributes\":{\"children\":[{\"id\":\"1527\"},{\"id\":\"1528\"},{\"id\":\"1530\"}],\"margin\":[0,0,0,0],\"name\":\"Column02338\"},\"id\":\"1526\",\"type\":\"Column\"},{\"attributes\":{\"source\":{\"id\":\"1484\"}},\"id\":\"1491\",\"type\":\"CDSView\"},{\"attributes\":{},\"id\":\"1471\",\"type\":\"SaveTool\"},{\"attributes\":{\"callback\":null,\"renderers\":[{\"id\":\"1490\"}],\"tags\":[\"hv_created\"],\"tooltips\":[[\"year\",\"@{year}\"],[\"sale_price_sqr_foot\",\"@{sale_price_sqr_foot}\"]]},\"id\":\"1453\",\"type\":\"HoverTool\"},{\"attributes\":{\"client_comm_id\":\"0852a88856524e70ba8b193f2f3c4000\",\"comm_id\":\"e5510810102943149aabb6aa8bed9025\",\"plot_id\":\"1449\"},\"id\":\"1561\",\"type\":\"panel.models.comm_manager.CommManager\"},{\"attributes\":{\"children\":[{\"id\":\"1450\"},{\"id\":\"1454\"},{\"id\":\"1525\"},{\"id\":\"1526\"}],\"margin\":[0,0,0,0],\"name\":\"Row02330\"},\"id\":\"1449\",\"type\":\"Row\"},{\"attributes\":{\"line_alpha\":0.1,\"line_color\":\"#30a2da\",\"line_width\":2,\"x\":{\"field\":\"year\"},\"y\":{\"field\":\"sale_price_sqr_foot\"}},\"id\":\"1488\",\"type\":\"Line\"},{\"attributes\":{},\"id\":\"1498\",\"type\":\"AllLabels\"},{\"attributes\":{\"margin\":[5,5,5,5],\"name\":\"VSpacer02336\",\"sizing_mode\":\"stretch_height\"},\"id\":\"1527\",\"type\":\"Spacer\"},{\"attributes\":{},\"id\":\"1459\",\"type\":\"LinearScale\"},{\"attributes\":{\"tools\":[{\"id\":\"1453\"},{\"id\":\"1471\"},{\"id\":\"1472\"},{\"id\":\"1473\"},{\"id\":\"1474\"},{\"id\":\"1475\"}]},\"id\":\"1477\",\"type\":\"Toolbar\"},{\"attributes\":{\"margin\":[5,5,5,5],\"name\":\"VSpacer02337\",\"sizing_mode\":\"stretch_height\"},\"id\":\"1530\",\"type\":\"Spacer\"},{\"attributes\":{\"bottom_units\":\"screen\",\"coordinates\":null,\"fill_alpha\":0.5,\"fill_color\":\"lightgrey\",\"group\":null,\"left_units\":\"screen\",\"level\":\"overlay\",\"line_alpha\":1.0,\"line_color\":\"black\",\"line_dash\":[4,4],\"line_width\":2,\"right_units\":\"screen\",\"syncable\":false,\"top_units\":\"screen\"},\"id\":\"1476\",\"type\":\"BoxAnnotation\"},{\"attributes\":{\"below\":[{\"id\":\"1463\"}],\"center\":[{\"id\":\"1466\"},{\"id\":\"1470\"}],\"height\":300,\"left\":[{\"id\":\"1467\"}],\"margin\":[5,5,5,5],\"min_border_bottom\":10,\"min_border_left\":10,\"min_border_right\":10,\"min_border_top\":10,\"renderers\":[{\"id\":\"1490\"}],\"sizing_mode\":\"fixed\",\"title\":{\"id\":\"1455\"},\"toolbar\":{\"id\":\"1477\"},\"width\":700,\"x_range\":{\"id\":\"1451\"},\"x_scale\":{\"id\":\"1459\"},\"y_range\":{\"id\":\"1452\"},\"y_scale\":{\"id\":\"1461\"}},\"id\":\"1454\",\"subtype\":\"Figure\",\"type\":\"Plot\"},{\"attributes\":{},\"id\":\"1472\",\"type\":\"PanTool\"},{\"attributes\":{},\"id\":\"1475\",\"type\":\"ResetTool\"},{\"attributes\":{},\"id\":\"1461\",\"type\":\"LinearScale\"},{\"attributes\":{\"line_alpha\":0.2,\"line_color\":\"#30a2da\",\"line_width\":2,\"x\":{\"field\":\"year\"},\"y\":{\"field\":\"sale_price_sqr_foot\"}},\"id\":\"1489\",\"type\":\"Line\"},{\"attributes\":{},\"id\":\"1473\",\"type\":\"WheelZoomTool\"},{\"attributes\":{\"coordinates\":null,\"data_source\":{\"id\":\"1484\"},\"glyph\":{\"id\":\"1487\"},\"group\":null,\"hover_glyph\":null,\"muted_glyph\":{\"id\":\"1489\"},\"nonselection_glyph\":{\"id\":\"1488\"},\"selection_glyph\":{\"id\":\"1492\"},\"view\":{\"id\":\"1491\"}},\"id\":\"1490\",\"type\":\"GlyphRenderer\"},{\"attributes\":{\"overlay\":{\"id\":\"1476\"}},\"id\":\"1474\",\"type\":\"BoxZoomTool\"},{\"attributes\":{\"margin\":[5,5,5,5],\"name\":\"HSpacer02339\",\"sizing_mode\":\"stretch_width\"},\"id\":\"1450\",\"type\":\"Spacer\"},{\"attributes\":{},\"id\":\"1464\",\"type\":\"BasicTicker\"},{\"attributes\":{},\"id\":\"1512\",\"type\":\"UnionRenderers\"},{\"attributes\":{\"axis\":{\"id\":\"1463\"},\"coordinates\":null,\"grid_line_color\":null,\"group\":null,\"ticker\":null},\"id\":\"1466\",\"type\":\"Grid\"},{\"attributes\":{\"children\":[{\"id\":\"1529\"}],\"css_classes\":[\"panel-widget-box\"],\"margin\":[5,5,5,5],\"name\":\"WidgetBox02331\"},\"id\":\"1528\",\"type\":\"Column\"},{\"attributes\":{\"coordinates\":null,\"group\":null,\"text\":\"neighborhood: Alamo Square\",\"text_color\":\"black\",\"text_font_size\":\"12pt\"},\"id\":\"1455\",\"type\":\"Title\"},{\"attributes\":{\"line_color\":\"#30a2da\",\"line_width\":2,\"x\":{\"field\":\"year\"},\"y\":{\"field\":\"sale_price_sqr_foot\"}},\"id\":\"1492\",\"type\":\"Line\"},{\"attributes\":{\"data\":{\"sale_price_sqr_foot\":{\"__ndarray__\":\"DUc7WO0yckCafszcbwhxQIKRs5ot42ZAKDog0LQ8eEAVMinKGEd+QI4V5FDt0IJAVCHcmLVPdUA=\",\"dtype\":\"float64\",\"order\":\"little\",\"shape\":[7]},\"year\":[2010,2011,2012,2013,2014,2015,2016]},\"selected\":{\"id\":\"1485\"},\"selection_policy\":{\"id\":\"1512\"}},\"id\":\"1484\",\"type\":\"ColumnDataSource\"},{\"attributes\":{\"axis\":{\"id\":\"1467\"},\"coordinates\":null,\"dimension\":1,\"grid_line_color\":null,\"group\":null,\"ticker\":null},\"id\":\"1470\",\"type\":\"Grid\"},{\"attributes\":{\"line_color\":\"#30a2da\",\"line_width\":2,\"x\":{\"field\":\"year\"},\"y\":{\"field\":\"sale_price_sqr_foot\"}},\"id\":\"1487\",\"type\":\"Line\"},{\"attributes\":{\"margin\":[5,5,5,5],\"name\":\"HSpacer02340\",\"sizing_mode\":\"stretch_width\"},\"id\":\"1525\",\"type\":\"Spacer\"},{\"attributes\":{\"end\":2016.0,\"reset_end\":2016.0,\"reset_start\":2010.0,\"start\":2010.0,\"tags\":[[[\"year\",\"year\",null]]]},\"id\":\"1451\",\"type\":\"Range1d\"},{\"attributes\":{\"axis_label\":\"Year\",\"coordinates\":null,\"formatter\":{\"id\":\"1494\"},\"group\":null,\"major_label_policy\":{\"id\":\"1495\"},\"ticker\":{\"id\":\"1464\"}},\"id\":\"1463\",\"type\":\"LinearAxis\"},{\"attributes\":{},\"id\":\"1497\",\"type\":\"BasicTickFormatter\"},{\"attributes\":{},\"id\":\"1495\",\"type\":\"AllLabels\"},{\"attributes\":{},\"id\":\"1485\",\"type\":\"Selection\"},{\"attributes\":{},\"id\":\"1494\",\"type\":\"BasicTickFormatter\"},{\"attributes\":{\"end\":644.0175329447046,\"reset_end\":644.0175329447046,\"reset_start\":141.1976609302527,\"start\":141.1976609302527,\"tags\":[[[\"sale_price_sqr_foot\",\"sale_price_sqr_foot\",null]]]},\"id\":\"1452\",\"type\":\"Range1d\"},{\"attributes\":{},\"id\":\"1468\",\"type\":\"BasicTicker\"},{\"attributes\":{\"axis_label\":\"Average Sale Price per SqFt\",\"coordinates\":null,\"formatter\":{\"id\":\"1497\"},\"group\":null,\"major_label_policy\":{\"id\":\"1498\"},\"ticker\":{\"id\":\"1468\"}},\"id\":\"1467\",\"type\":\"LinearAxis\"},{\"attributes\":{\"margin\":[20,20,20,20],\"min_width\":250,\"options\":[\"Alamo Square\",\"Anza Vista\",\"Bayview\",\"Buena Vista Park\",\"Central Richmond\",\"Central Sunset\",\"Corona Heights\",\"Cow Hollow\",\"Croker Amazon\",\"Diamond Heights\",\"Downtown \",\"Eureka Valley/Dolores Heights\",\"Excelsior\",\"Financial District North\",\"Financial District South\",\"Forest Knolls\",\"Glen Park\",\"Golden Gate Heights\",\"Haight Ashbury\",\"Hayes Valley\",\"Hunters Point\",\"Ingleside \",\"Inner Mission\",\"Inner Parkside\",\"Inner Richmond\",\"Inner Sunset\",\"Jordan Park/Laurel Heights\",\"Lake --The Presidio\",\"Lone Mountain\",\"Lower Pacific Heights\",\"Marina\",\"Miraloma Park\",\"Mission Bay\",\"Mission Dolores\",\"Mission Terrace\",\"Nob Hill\",\"Noe Valley\",\"Oceanview\",\"Outer Parkside\",\"Outer Richmond \",\"Outer Sunset\",\"Pacific Heights\",\"Park North\",\"Parkside\",\"Parnassus/Ashbury Heights\",\"Portola\",\"Potrero Hill\",\"Presidio Heights\",\"Russian Hill\",\"South Beach\",\"South of Market\",\"Sunnyside\",\"Telegraph Hill\",\"Twin Peaks\",\"Union Square District\",\"Van Ness/ Civic Center\",\"West Portal\",\"Western Addition\",\"Yerba Buena\",\"Bernal Heights \",\"Clarendon Heights\",\"Duboce Triangle\",\"Ingleside Heights\",\"North Beach\",\"North Waterfront\",\"Outer Mission\",\"Westwood Highlands\",\"Merced Heights\",\"Midtown Terrace\",\"Visitacion Valley\",\"Silver Terrace\",\"Westwood Park\",\"Bayview Heights\"],\"title\":\"neighborhood\",\"value\":\"Alamo Square\",\"width\":250},\"id\":\"1529\",\"type\":\"Select\"}],\"root_ids\":[\"1449\",\"1561\"]},\"title\":\"Bokeh Application\",\"version\":\"2.4.2\"}};\n",
       "    var render_items = [{\"docid\":\"ab6f6cf3-22bb-4eaf-b5b8-584814a98086\",\"root_ids\":[\"1449\"],\"roots\":{\"1449\":\"67423014-ffee-4319-ad17-bd14463e9a83\"}}];\n",
       "    root.Bokeh.embed.embed_items_notebook(docs_json, render_items);\n",
       "  }\n",
       "  if (root.Bokeh !== undefined && root.Bokeh.Panel !== undefined && ( root['Plotly'] !== undefined)) {\n",
       "    embed_document(root);\n",
       "  } else {\n",
       "    var attempts = 0;\n",
       "    var timer = setInterval(function(root) {\n",
       "      if (root.Bokeh !== undefined && root.Bokeh.Panel !== undefined && (root['Plotly'] !== undefined)) {\n",
       "        clearInterval(timer);\n",
       "        embed_document(root);\n",
       "      } else if (document.readyState == \"complete\") {\n",
       "        attempts++;\n",
       "        if (attempts > 200) {\n",
       "          clearInterval(timer);\n",
       "          console.log(\"Bokeh: ERROR: Unable to run BokehJS code because BokehJS library is missing\");\n",
       "        }\n",
       "      }\n",
       "    }, 25, root)\n",
       "  }\n",
       "})(window);</script>"
      ],
      "text/plain": [
       ":DynamicMap   [neighborhood]\n",
       "   :Curve   [year]   (sale_price_sqr_foot)"
      ]
     },
     "execution_count": 20,
     "metadata": {
      "application/vnd.holoviews_exec.v0+json": {
       "id": "1449"
      }
     },
     "output_type": "execute_result"
    }
   ],
   "source": [
    "\n",
    "def average_price_by_neighborhood():\n",
    "    \"\"\"Average Prices by Neighborhood.\"\"\"\n",
    "    \n",
    "cost_df = sfo_data.groupby([sfo_data.index, \"neighborhood\"]).mean()\n",
    "cost_df.reset_index(inplace=True)\n",
    "cost_df.hvplot.line(\n",
    "    \"year\",\n",
    "    \"sale_price_sqr_foot\",\n",
    "    xlabel= \"Year\",\n",
    "    ylabel= \"Average Sale Price per SqFt\",\n",
    "    groupby=(\"neighborhood\")\n",
    ")"
   ]
  },
  {
   "cell_type": "code",
   "execution_count": 21,
   "metadata": {},
   "outputs": [
    {
     "data": {},
     "metadata": {},
     "output_type": "display_data"
    },
    {
     "data": {
      "application/vnd.holoviews_exec.v0+json": "",
      "text/html": [
       "<div id='1612'>\n",
       "\n",
       "\n",
       "\n",
       "\n",
       "\n",
       "  <div class=\"bk-root\" id=\"ee1d8339-e6b9-4af5-89fc-5a401430b7ff\" data-root-id=\"1612\"></div>\n",
       "</div>\n",
       "<script type=\"application/javascript\">(function(root) {\n",
       "  function embed_document(root) {\n",
       "    var docs_json = {\"2470e515-7ef3-4eb4-87b4-d8112d975b9a\":{\"defs\":[{\"extends\":null,\"module\":null,\"name\":\"ReactiveHTML1\",\"overrides\":[],\"properties\":[]},{\"extends\":null,\"module\":null,\"name\":\"FlexBox1\",\"overrides\":[],\"properties\":[{\"default\":\"flex-start\",\"kind\":null,\"name\":\"align_content\"},{\"default\":\"flex-start\",\"kind\":null,\"name\":\"align_items\"},{\"default\":\"row\",\"kind\":null,\"name\":\"flex_direction\"},{\"default\":\"wrap\",\"kind\":null,\"name\":\"flex_wrap\"},{\"default\":\"flex-start\",\"kind\":null,\"name\":\"justify_content\"}]},{\"extends\":null,\"module\":null,\"name\":\"TemplateActions1\",\"overrides\":[],\"properties\":[{\"default\":0,\"kind\":null,\"name\":\"open_modal\"},{\"default\":0,\"kind\":null,\"name\":\"close_modal\"}]},{\"extends\":null,\"module\":null,\"name\":\"MaterialTemplateActions1\",\"overrides\":[],\"properties\":[{\"default\":0,\"kind\":null,\"name\":\"open_modal\"},{\"default\":0,\"kind\":null,\"name\":\"close_modal\"}]}],\"roots\":{\"references\":[{\"attributes\":{\"children\":[{\"id\":\"1613\"},{\"id\":\"1617\"},{\"id\":\"1681\"}],\"margin\":[0,0,0,0],\"name\":\"Row02639\",\"tags\":[\"embedded\"]},\"id\":\"1612\",\"type\":\"Row\"},{\"attributes\":{},\"id\":\"1659\",\"type\":\"BasicTickFormatter\"},{\"attributes\":{\"data\":{\"neighborhood\":[\"Union Square District\",\"Merced Heights\",\"Miraloma Park\",\"Pacific Heights\",\"Westwood Park\",\"Telegraph Hill\",\"Presidio Heights\",\"Cow Hollow\",\"Potrero Hill\",\"South Beach\"],\"sale_price_sqr_foot\":{\"__ndarray__\":\"JRAUMfI/jEB9IrkvwqaIQFx/3pp8XohAFpsVUHKMhUBr0ERas3iFQL0KhXgNJIVAy835O80ahUALV25bts+EQJrMCuEbsIRAya3y7v5QhEA=\",\"dtype\":\"float64\",\"order\":\"little\",\"shape\":[10]}},\"selected\":{\"id\":\"1647\"},\"selection_policy\":{\"id\":\"1668\"}},\"id\":\"1646\",\"type\":\"ColumnDataSource\"},{\"attributes\":{\"fill_color\":{\"value\":\"#30a2da\"},\"hatch_color\":{\"value\":\"#30a2da\"},\"top\":{\"field\":\"sale_price_sqr_foot\"},\"width\":{\"value\":0.8},\"x\":{\"field\":\"neighborhood\"}},\"id\":\"1649\",\"type\":\"VBar\"},{\"attributes\":{\"tools\":[{\"id\":\"1616\"},{\"id\":\"1633\"},{\"id\":\"1634\"},{\"id\":\"1635\"},{\"id\":\"1636\"},{\"id\":\"1637\"}]},\"id\":\"1639\",\"type\":\"Toolbar\"},{\"attributes\":{},\"id\":\"1656\",\"type\":\"CategoricalTickFormatter\"},{\"attributes\":{\"bottom_units\":\"screen\",\"coordinates\":null,\"fill_alpha\":0.5,\"fill_color\":\"lightgrey\",\"group\":null,\"left_units\":\"screen\",\"level\":\"overlay\",\"line_alpha\":1.0,\"line_color\":\"black\",\"line_dash\":[4,4],\"line_width\":2,\"right_units\":\"screen\",\"syncable\":false,\"top_units\":\"screen\"},\"id\":\"1638\",\"type\":\"BoxAnnotation\"},{\"attributes\":{\"axis_label\":\"Neighborhood\",\"coordinates\":null,\"formatter\":{\"id\":\"1656\"},\"group\":null,\"major_label_orientation\":0.7853981633974483,\"major_label_policy\":{\"id\":\"1657\"},\"ticker\":{\"id\":\"1627\"}},\"id\":\"1626\",\"type\":\"CategoricalAxis\"},{\"attributes\":{},\"id\":\"1633\",\"type\":\"SaveTool\"},{\"attributes\":{\"margin\":[5,5,5,5],\"name\":\"HSpacer02643\",\"sizing_mode\":\"stretch_width\"},\"id\":\"1613\",\"type\":\"Spacer\"},{\"attributes\":{},\"id\":\"1634\",\"type\":\"PanTool\"},{\"attributes\":{},\"id\":\"1637\",\"type\":\"ResetTool\"},{\"attributes\":{\"margin\":[5,5,5,5],\"name\":\"HSpacer02644\",\"sizing_mode\":\"stretch_width\"},\"id\":\"1681\",\"type\":\"Spacer\"},{\"attributes\":{\"below\":[{\"id\":\"1626\"}],\"center\":[{\"id\":\"1628\"},{\"id\":\"1632\"}],\"height\":400,\"left\":[{\"id\":\"1629\"}],\"margin\":[5,5,5,5],\"min_border_bottom\":10,\"min_border_left\":10,\"min_border_right\":10,\"min_border_top\":10,\"renderers\":[{\"id\":\"1652\"}],\"sizing_mode\":\"fixed\",\"title\":{\"id\":\"1618\"},\"toolbar\":{\"id\":\"1639\"},\"width\":700,\"x_range\":{\"id\":\"1614\"},\"x_scale\":{\"id\":\"1622\"},\"y_range\":{\"id\":\"1615\"},\"y_scale\":{\"id\":\"1624\"}},\"id\":\"1617\",\"subtype\":\"Figure\",\"type\":\"Plot\"},{\"attributes\":{},\"id\":\"1635\",\"type\":\"WheelZoomTool\"},{\"attributes\":{},\"id\":\"1647\",\"type\":\"Selection\"},{\"attributes\":{\"coordinates\":null,\"data_source\":{\"id\":\"1646\"},\"glyph\":{\"id\":\"1649\"},\"group\":null,\"hover_glyph\":null,\"muted_glyph\":{\"id\":\"1651\"},\"nonselection_glyph\":{\"id\":\"1650\"},\"selection_glyph\":{\"id\":\"1654\"},\"view\":{\"id\":\"1653\"}},\"id\":\"1652\",\"type\":\"GlyphRenderer\"},{\"attributes\":{\"overlay\":{\"id\":\"1638\"}},\"id\":\"1636\",\"type\":\"BoxZoomTool\"},{\"attributes\":{\"axis\":{\"id\":\"1626\"},\"coordinates\":null,\"grid_line_color\":null,\"group\":null,\"ticker\":null},\"id\":\"1628\",\"type\":\"Grid\"},{\"attributes\":{},\"id\":\"1622\",\"type\":\"CategoricalScale\"},{\"attributes\":{\"coordinates\":null,\"group\":null,\"text\":\"Top 10 Most Expensive Neighborhoods\",\"text_color\":\"black\",\"text_font_size\":\"12pt\"},\"id\":\"1618\",\"type\":\"Title\"},{\"attributes\":{\"bottom\":{\"value\":0},\"fill_alpha\":{\"value\":1.0},\"fill_color\":{\"value\":\"#30a2da\"},\"hatch_alpha\":{\"value\":1.0},\"hatch_color\":{\"value\":\"#30a2da\"},\"hatch_scale\":{\"value\":12.0},\"hatch_weight\":{\"value\":1.0},\"line_alpha\":{\"value\":1.0},\"line_cap\":{\"value\":\"butt\"},\"line_color\":{\"value\":\"black\"},\"line_dash\":{\"value\":[]},\"line_dash_offset\":{\"value\":0},\"line_join\":{\"value\":\"bevel\"},\"line_width\":{\"value\":1},\"top\":{\"field\":\"sale_price_sqr_foot\"},\"width\":{\"value\":0.8},\"x\":{\"field\":\"neighborhood\"}},\"id\":\"1654\",\"type\":\"VBar\"},{\"attributes\":{},\"id\":\"1657\",\"type\":\"AllLabels\"},{\"attributes\":{},\"id\":\"1624\",\"type\":\"LinearScale\"},{\"attributes\":{},\"id\":\"1630\",\"type\":\"BasicTicker\"},{\"attributes\":{},\"id\":\"1660\",\"type\":\"AllLabels\"},{\"attributes\":{},\"id\":\"1627\",\"type\":\"CategoricalTicker\"},{\"attributes\":{\"factors\":[\"Union Square District\",\"Merced Heights\",\"Miraloma Park\",\"Pacific Heights\",\"Westwood Park\",\"Telegraph Hill\",\"Presidio Heights\",\"Cow Hollow\",\"Potrero Hill\",\"South Beach\"],\"tags\":[[[\"neighborhood\",\"neighborhood\",null]]]},\"id\":\"1614\",\"type\":\"FactorRange\"},{\"attributes\":{\"axis_label\":\"Sale Price per Sqr Foot\",\"coordinates\":null,\"formatter\":{\"id\":\"1659\"},\"group\":null,\"major_label_policy\":{\"id\":\"1660\"},\"ticker\":{\"id\":\"1630\"}},\"id\":\"1629\",\"type\":\"LinearAxis\"},{\"attributes\":{\"end\":929.3801355198136,\"reset_end\":929.3801355198136,\"reset_start\":0.0,\"tags\":[[[\"sale_price_sqr_foot\",\"sale_price_sqr_foot\",null]]]},\"id\":\"1615\",\"type\":\"Range1d\"},{\"attributes\":{\"axis\":{\"id\":\"1629\"},\"coordinates\":null,\"dimension\":1,\"grid_line_color\":null,\"group\":null,\"ticker\":null},\"id\":\"1632\",\"type\":\"Grid\"},{\"attributes\":{\"source\":{\"id\":\"1646\"}},\"id\":\"1653\",\"type\":\"CDSView\"},{\"attributes\":{},\"id\":\"1668\",\"type\":\"UnionRenderers\"},{\"attributes\":{\"fill_alpha\":{\"value\":0.1},\"fill_color\":{\"value\":\"#30a2da\"},\"hatch_alpha\":{\"value\":0.1},\"hatch_color\":{\"value\":\"#30a2da\"},\"line_alpha\":{\"value\":0.1},\"top\":{\"field\":\"sale_price_sqr_foot\"},\"width\":{\"value\":0.8},\"x\":{\"field\":\"neighborhood\"}},\"id\":\"1650\",\"type\":\"VBar\"},{\"attributes\":{\"callback\":null,\"renderers\":[{\"id\":\"1652\"}],\"tags\":[\"hv_created\"],\"tooltips\":[[\"neighborhood\",\"@{neighborhood}\"],[\"sale_price_sqr_foot\",\"@{sale_price_sqr_foot}\"]]},\"id\":\"1616\",\"type\":\"HoverTool\"},{\"attributes\":{\"fill_alpha\":{\"value\":0.2},\"fill_color\":{\"value\":\"#30a2da\"},\"hatch_alpha\":{\"value\":0.2},\"hatch_color\":{\"value\":\"#30a2da\"},\"line_alpha\":{\"value\":0.2},\"top\":{\"field\":\"sale_price_sqr_foot\"},\"width\":{\"value\":0.8},\"x\":{\"field\":\"neighborhood\"}},\"id\":\"1651\",\"type\":\"VBar\"}],\"root_ids\":[\"1612\"]},\"title\":\"Bokeh Application\",\"version\":\"2.4.2\"}};\n",
       "    var render_items = [{\"docid\":\"2470e515-7ef3-4eb4-87b4-d8112d975b9a\",\"root_ids\":[\"1612\"],\"roots\":{\"1612\":\"ee1d8339-e6b9-4af5-89fc-5a401430b7ff\"}}];\n",
       "    root.Bokeh.embed.embed_items_notebook(docs_json, render_items);\n",
       "  }\n",
       "  if (root.Bokeh !== undefined && root.Bokeh.Panel !== undefined && ( root['Plotly'] !== undefined)) {\n",
       "    embed_document(root);\n",
       "  } else {\n",
       "    var attempts = 0;\n",
       "    var timer = setInterval(function(root) {\n",
       "      if (root.Bokeh !== undefined && root.Bokeh.Panel !== undefined && (root['Plotly'] !== undefined)) {\n",
       "        clearInterval(timer);\n",
       "        embed_document(root);\n",
       "      } else if (document.readyState == \"complete\") {\n",
       "        attempts++;\n",
       "        if (attempts > 200) {\n",
       "          clearInterval(timer);\n",
       "          console.log(\"Bokeh: ERROR: Unable to run BokehJS code because BokehJS library is missing\");\n",
       "        }\n",
       "      }\n",
       "    }, 25, root)\n",
       "  }\n",
       "})(window);</script>"
      ],
      "text/plain": [
       ":Bars   [neighborhood]   (sale_price_sqr_foot)"
      ]
     },
     "execution_count": 21,
     "metadata": {
      "application/vnd.holoviews_exec.v0+json": {
       "id": "1612"
      }
     },
     "output_type": "execute_result"
    }
   ],
   "source": [
    "def top_most_expensive_neighborhoods():\n",
    "    \"\"\"Top 10 Most Expensive Neighborhoods.\"\"\"\n",
    "\n",
    "top_10_df = sfo_data.groupby(by=\"neighborhood\").mean()\n",
    "top_10_df = top_10_df.sort_values(by=\"sale_price_sqr_foot\", ascending=False).head(10)\n",
    "top_10_df.reset_index(inplace=True)\n",
    "top_10_df.hvplot.bar(\"neighborhood\", \"sale_price_sqr_foot\", title= \"Top 10 Most Expensive Neighborhoods\", rot=45, ylabel=\"Sale Price per Sqr Foot\", xlabel= \"Neighborhood\", height=400)\n"
   ]
  },
  {
   "cell_type": "code",
   "execution_count": 22,
   "metadata": {},
   "outputs": [
    {
     "data": {},
     "metadata": {},
     "output_type": "display_data"
    },
    {
     "data": {
      "application/vnd.holoviews_exec.v0+json": "",
      "text/html": [
       "<div id='1733'>\n",
       "\n",
       "\n",
       "\n",
       "\n",
       "\n",
       "  <div class=\"bk-root\" id=\"c12c227a-27fb-459d-a2cb-43f69876cb52\" data-root-id=\"1733\"></div>\n",
       "</div>\n",
       "<script type=\"application/javascript\">(function(root) {\n",
       "  function embed_document(root) {\n",
       "    var docs_json = {\"206b3e04-4f5f-4fc3-a15f-db66488ac2da\":{\"defs\":[{\"extends\":null,\"module\":null,\"name\":\"ReactiveHTML1\",\"overrides\":[],\"properties\":[]},{\"extends\":null,\"module\":null,\"name\":\"FlexBox1\",\"overrides\":[],\"properties\":[{\"default\":\"flex-start\",\"kind\":null,\"name\":\"align_content\"},{\"default\":\"flex-start\",\"kind\":null,\"name\":\"align_items\"},{\"default\":\"row\",\"kind\":null,\"name\":\"flex_direction\"},{\"default\":\"wrap\",\"kind\":null,\"name\":\"flex_wrap\"},{\"default\":\"flex-start\",\"kind\":null,\"name\":\"justify_content\"}]},{\"extends\":null,\"module\":null,\"name\":\"TemplateActions1\",\"overrides\":[],\"properties\":[{\"default\":0,\"kind\":null,\"name\":\"open_modal\"},{\"default\":0,\"kind\":null,\"name\":\"close_modal\"}]},{\"extends\":null,\"module\":null,\"name\":\"MaterialTemplateActions1\",\"overrides\":[],\"properties\":[{\"default\":0,\"kind\":null,\"name\":\"open_modal\"},{\"default\":0,\"kind\":null,\"name\":\"close_modal\"}]}],\"roots\":{\"references\":[{\"attributes\":{},\"id\":\"1778\",\"type\":\"CategoricalTickFormatter\"},{\"attributes\":{\"fill_alpha\":{\"value\":0.1},\"fill_color\":{\"field\":\"Variable\",\"transform\":{\"id\":\"1767\"}},\"hatch_alpha\":{\"value\":0.1},\"hatch_color\":{\"field\":\"Variable\",\"transform\":{\"id\":\"1767\"}},\"line_alpha\":{\"value\":0.1},\"top\":{\"field\":\"value\"},\"width\":{\"value\":0.8},\"x\":{\"field\":\"xoffsets\"}},\"id\":\"1772\",\"type\":\"VBar\"},{\"attributes\":{},\"id\":\"1751\",\"type\":\"BasicTicker\"},{\"attributes\":{\"axis_label\":\"Price\",\"coordinates\":null,\"formatter\":{\"id\":\"1781\"},\"group\":null,\"major_label_policy\":{\"id\":\"1782\"},\"ticker\":{\"id\":\"1751\"}},\"id\":\"1750\",\"type\":\"LinearAxis\"},{\"attributes\":{\"children\":[{\"id\":\"1813\"}],\"css_classes\":[\"panel-widget-box\"],\"margin\":[5,5,5,5],\"name\":\"WidgetBox02740\"},\"id\":\"1812\",\"type\":\"Column\"},{\"attributes\":{\"coordinates\":null,\"data_source\":{\"id\":\"1768\"},\"glyph\":{\"id\":\"1771\"},\"group\":null,\"hover_glyph\":null,\"muted_glyph\":{\"id\":\"1773\"},\"nonselection_glyph\":{\"id\":\"1772\"},\"selection_glyph\":{\"id\":\"1776\"},\"view\":{\"id\":\"1775\"}},\"id\":\"1774\",\"type\":\"GlyphRenderer\"},{\"attributes\":{\"axis\":{\"id\":\"1750\"},\"coordinates\":null,\"dimension\":1,\"grid_line_color\":null,\"group\":null,\"ticker\":null},\"id\":\"1753\",\"type\":\"Grid\"},{\"attributes\":{},\"id\":\"1769\",\"type\":\"Selection\"},{\"attributes\":{\"children\":[{\"id\":\"1811\"},{\"id\":\"1812\"},{\"id\":\"1814\"}],\"margin\":[0,0,0,0],\"name\":\"Column02747\"},\"id\":\"1810\",\"type\":\"Column\"},{\"attributes\":{\"fill_alpha\":{\"value\":0.2},\"fill_color\":{\"field\":\"Variable\",\"transform\":{\"id\":\"1767\"}},\"hatch_alpha\":{\"value\":0.2},\"hatch_color\":{\"field\":\"Variable\",\"transform\":{\"id\":\"1767\"}},\"line_alpha\":{\"value\":0.2},\"top\":{\"field\":\"value\"},\"width\":{\"value\":0.8},\"x\":{\"field\":\"xoffsets\"}},\"id\":\"1773\",\"type\":\"VBar\"},{\"attributes\":{\"bottom\":{\"value\":0},\"fill_alpha\":{\"value\":1.0},\"fill_color\":{\"field\":\"Variable\",\"transform\":{\"id\":\"1767\"}},\"hatch_alpha\":{\"value\":1.0},\"hatch_color\":{\"field\":\"Variable\",\"transform\":{\"id\":\"1767\"}},\"hatch_scale\":{\"value\":12.0},\"hatch_weight\":{\"value\":1.0},\"line_alpha\":{\"value\":1.0},\"line_cap\":{\"value\":\"butt\"},\"line_color\":{\"value\":\"black\"},\"line_dash\":{\"value\":[]},\"line_dash_offset\":{\"value\":0},\"line_join\":{\"value\":\"bevel\"},\"line_width\":{\"value\":1},\"top\":{\"field\":\"value\"},\"width\":{\"value\":0.8},\"x\":{\"field\":\"xoffsets\"}},\"id\":\"1776\",\"type\":\"VBar\"},{\"attributes\":{\"factors\":[\"gross_rent\",\"sale_price_sqr_foot\"],\"palette\":[\"#30a2da\",\"#fc4f30\"]},\"id\":\"1767\",\"type\":\"CategoricalColorMapper\"},{\"attributes\":{},\"id\":\"1782\",\"type\":\"AllLabels\"},{\"attributes\":{},\"id\":\"1781\",\"type\":\"BasicTickFormatter\"},{\"attributes\":{\"margin\":[5,5,5,5],\"name\":\"HSpacer02749\",\"sizing_mode\":\"stretch_width\"},\"id\":\"1809\",\"type\":\"Spacer\"},{\"attributes\":{\"margin\":[5,5,5,5],\"name\":\"VSpacer02745\",\"sizing_mode\":\"stretch_height\"},\"id\":\"1811\",\"type\":\"Spacer\"},{\"attributes\":{},\"id\":\"1754\",\"type\":\"SaveTool\"},{\"attributes\":{\"margin\":[5,5,5,5],\"name\":\"VSpacer02746\",\"sizing_mode\":\"stretch_height\"},\"id\":\"1814\",\"type\":\"Spacer\"},{\"attributes\":{\"below\":[{\"id\":\"1747\"}],\"center\":[{\"id\":\"1749\"},{\"id\":\"1753\"}],\"height\":400,\"left\":[{\"id\":\"1750\"}],\"margin\":[5,5,5,5],\"min_border_bottom\":10,\"min_border_left\":10,\"min_border_right\":10,\"min_border_top\":10,\"renderers\":[{\"id\":\"1774\"}],\"sizing_mode\":\"fixed\",\"title\":{\"id\":\"1739\"},\"toolbar\":{\"id\":\"1760\"},\"width\":700,\"x_range\":{\"id\":\"1735\"},\"x_scale\":{\"id\":\"1743\"},\"y_range\":{\"id\":\"1736\"},\"y_scale\":{\"id\":\"1745\"}},\"id\":\"1738\",\"subtype\":\"Figure\",\"type\":\"Plot\"},{\"attributes\":{},\"id\":\"1755\",\"type\":\"PanTool\"},{\"attributes\":{\"margin\":[5,5,5,5],\"name\":\"HSpacer02748\",\"sizing_mode\":\"stretch_width\"},\"id\":\"1734\",\"type\":\"Spacer\"},{\"attributes\":{},\"id\":\"1758\",\"type\":\"ResetTool\"},{\"attributes\":{},\"id\":\"1756\",\"type\":\"WheelZoomTool\"},{\"attributes\":{\"margin\":[20,20,20,20],\"min_width\":250,\"options\":[\"Alamo Square\",\"Anza Vista\",\"Bayview\",\"Buena Vista Park\",\"Central Richmond\",\"Central Sunset\",\"Corona Heights\",\"Cow Hollow\",\"Croker Amazon\",\"Diamond Heights\",\"Downtown \",\"Eureka Valley/Dolores Heights\",\"Excelsior\",\"Financial District North\",\"Financial District South\",\"Forest Knolls\",\"Glen Park\",\"Golden Gate Heights\",\"Haight Ashbury\",\"Hayes Valley\",\"Hunters Point\",\"Ingleside \",\"Inner Mission\",\"Inner Parkside\",\"Inner Richmond\",\"Inner Sunset\",\"Jordan Park/Laurel Heights\",\"Lake --The Presidio\",\"Lone Mountain\",\"Lower Pacific Heights\",\"Marina\",\"Miraloma Park\",\"Mission Bay\",\"Mission Dolores\",\"Mission Terrace\",\"Nob Hill\",\"Noe Valley\",\"Oceanview\",\"Outer Parkside\",\"Outer Richmond \",\"Outer Sunset\",\"Pacific Heights\",\"Park North\",\"Parkside\",\"Parnassus/Ashbury Heights\",\"Portola\",\"Potrero Hill\",\"Presidio Heights\",\"Russian Hill\",\"South Beach\",\"South of Market\",\"Sunnyside\",\"Telegraph Hill\",\"Twin Peaks\",\"Union Square District\",\"Van Ness/ Civic Center\",\"West Portal\",\"Western Addition\",\"Yerba Buena\",\"Bernal Heights \",\"Clarendon Heights\",\"Duboce Triangle\",\"Ingleside Heights\",\"North Beach\",\"North Waterfront\",\"Outer Mission\",\"Westwood Highlands\",\"Merced Heights\",\"Midtown Terrace\",\"Visitacion Valley\",\"Silver Terrace\",\"Westwood Park\",\"Bayview Heights\"],\"title\":\"neighborhood\",\"value\":\"Alamo Square\",\"width\":250},\"id\":\"1813\",\"type\":\"Select\"},{\"attributes\":{\"axis_label\":\"Year\",\"coordinates\":null,\"formatter\":{\"id\":\"1778\"},\"group\":null,\"major_label_orientation\":1.5707963267948966,\"major_label_policy\":{\"id\":\"1779\"},\"ticker\":{\"id\":\"1748\"}},\"id\":\"1747\",\"type\":\"CategoricalAxis\"},{\"attributes\":{\"fill_color\":{\"field\":\"Variable\",\"transform\":{\"id\":\"1767\"}},\"hatch_color\":{\"field\":\"Variable\",\"transform\":{\"id\":\"1767\"}},\"top\":{\"field\":\"value\"},\"width\":{\"value\":0.8},\"x\":{\"field\":\"xoffsets\"}},\"id\":\"1771\",\"type\":\"VBar\"},{\"attributes\":{\"overlay\":{\"id\":\"1759\"}},\"id\":\"1757\",\"type\":\"BoxZoomTool\"},{\"attributes\":{\"axis\":{\"id\":\"1747\"},\"coordinates\":null,\"grid_line_color\":null,\"group\":null,\"ticker\":null},\"id\":\"1749\",\"type\":\"Grid\"},{\"attributes\":{\"client_comm_id\":\"0d46da6c3345493686a42fda40d2c430\",\"comm_id\":\"3566c4703173453d9f31a737489b2f5e\",\"plot_id\":\"1733\"},\"id\":\"1845\",\"type\":\"panel.models.comm_manager.CommManager\"},{\"attributes\":{\"source\":{\"id\":\"1768\"}},\"id\":\"1775\",\"type\":\"CDSView\"},{\"attributes\":{},\"id\":\"1743\",\"type\":\"CategoricalScale\"},{\"attributes\":{\"bottom_units\":\"screen\",\"coordinates\":null,\"fill_alpha\":0.5,\"fill_color\":\"lightgrey\",\"group\":null,\"left_units\":\"screen\",\"level\":\"overlay\",\"line_alpha\":1.0,\"line_color\":\"black\",\"line_dash\":[4,4],\"line_width\":2,\"right_units\":\"screen\",\"syncable\":false,\"top_units\":\"screen\"},\"id\":\"1759\",\"type\":\"BoxAnnotation\"},{\"attributes\":{\"coordinates\":null,\"group\":null,\"text\":\"SFO Neighborhoods\",\"text_color\":\"black\",\"text_font_size\":\"12pt\"},\"id\":\"1739\",\"type\":\"Title\"},{\"attributes\":{\"end\":4810.690068306854,\"reset_end\":4810.690068306854,\"reset_start\":0.0,\"tags\":[[[\"value\",\"value\",null]]]},\"id\":\"1736\",\"type\":\"Range1d\"},{\"attributes\":{\"children\":[{\"id\":\"1734\"},{\"id\":\"1738\"},{\"id\":\"1809\"},{\"id\":\"1810\"}],\"margin\":[0,0,0,0],\"name\":\"Row02739\"},\"id\":\"1733\",\"type\":\"Row\"},{\"attributes\":{\"callback\":null,\"renderers\":[{\"id\":\"1774\"}],\"tags\":[\"hv_created\"],\"tooltips\":[[\"year\",\"@{year}\"],[\"Variable\",\"@{Variable}\"],[\"value\",\"@{value}\"]]},\"id\":\"1737\",\"type\":\"HoverTool\"},{\"attributes\":{},\"id\":\"1745\",\"type\":\"LinearScale\"},{\"attributes\":{},\"id\":\"1779\",\"type\":\"AllLabels\"},{\"attributes\":{\"data\":{\"Variable\":[\"gross_rent\",\"gross_rent\",\"gross_rent\",\"gross_rent\",\"gross_rent\",\"gross_rent\",\"gross_rent\",\"sale_price_sqr_foot\",\"sale_price_sqr_foot\",\"sale_price_sqr_foot\",\"sale_price_sqr_foot\",\"sale_price_sqr_foot\",\"sale_price_sqr_foot\",\"sale_price_sqr_foot\"],\"value\":{\"__ndarray__\":\"AAAAAABck0AAAAAAAOiXQAAAAAAAKKJAAAAAAAA2p0AAAAAAAJCrQAAAAAAANq1AAAAAAAAmsUANRztY7TJyQJp+zNxvCHFAgpGzmi3jZkAoOiDQtDx4QBUyKcoYR35AjhXkUO3QgkBUIdyYtU91QA==\",\"dtype\":\"float64\",\"order\":\"little\",\"shape\":[14]},\"xoffsets\":[[\"2010\",\"gross_rent\"],[\"2011\",\"gross_rent\"],[\"2012\",\"gross_rent\"],[\"2013\",\"gross_rent\"],[\"2014\",\"gross_rent\"],[\"2015\",\"gross_rent\"],[\"2016\",\"gross_rent\"],[\"2010\",\"sale_price_sqr_foot\"],[\"2011\",\"sale_price_sqr_foot\"],[\"2012\",\"sale_price_sqr_foot\"],[\"2013\",\"sale_price_sqr_foot\"],[\"2014\",\"sale_price_sqr_foot\"],[\"2015\",\"sale_price_sqr_foot\"],[\"2016\",\"sale_price_sqr_foot\"]],\"year\":[\"2010\",\"2011\",\"2012\",\"2013\",\"2014\",\"2015\",\"2016\",\"2010\",\"2011\",\"2012\",\"2013\",\"2014\",\"2015\",\"2016\"]},\"selected\":{\"id\":\"1769\"},\"selection_policy\":{\"id\":\"1796\"}},\"id\":\"1768\",\"type\":\"ColumnDataSource\"},{\"attributes\":{},\"id\":\"1748\",\"type\":\"CategoricalTicker\"},{\"attributes\":{},\"id\":\"1796\",\"type\":\"UnionRenderers\"},{\"attributes\":{\"tools\":[{\"id\":\"1737\"},{\"id\":\"1754\"},{\"id\":\"1755\"},{\"id\":\"1756\"},{\"id\":\"1757\"},{\"id\":\"1758\"}]},\"id\":\"1760\",\"type\":\"Toolbar\"},{\"attributes\":{\"factors\":[[\"2010\",\"gross_rent\"],[\"2010\",\"sale_price_sqr_foot\"],[\"2011\",\"gross_rent\"],[\"2011\",\"sale_price_sqr_foot\"],[\"2012\",\"gross_rent\"],[\"2012\",\"sale_price_sqr_foot\"],[\"2013\",\"gross_rent\"],[\"2013\",\"sale_price_sqr_foot\"],[\"2014\",\"gross_rent\"],[\"2014\",\"sale_price_sqr_foot\"],[\"2015\",\"gross_rent\"],[\"2015\",\"sale_price_sqr_foot\"],[\"2016\",\"gross_rent\"],[\"2016\",\"sale_price_sqr_foot\"]],\"tags\":[[[\"year\",\"year\",null],[\"Variable\",\"Variable\",null]]]},\"id\":\"1735\",\"type\":\"FactorRange\"}],\"root_ids\":[\"1733\",\"1845\"]},\"title\":\"Bokeh Application\",\"version\":\"2.4.2\"}};\n",
       "    var render_items = [{\"docid\":\"206b3e04-4f5f-4fc3-a15f-db66488ac2da\",\"root_ids\":[\"1733\"],\"roots\":{\"1733\":\"c12c227a-27fb-459d-a2cb-43f69876cb52\"}}];\n",
       "    root.Bokeh.embed.embed_items_notebook(docs_json, render_items);\n",
       "  }\n",
       "  if (root.Bokeh !== undefined && root.Bokeh.Panel !== undefined && ( root['Plotly'] !== undefined)) {\n",
       "    embed_document(root);\n",
       "  } else {\n",
       "    var attempts = 0;\n",
       "    var timer = setInterval(function(root) {\n",
       "      if (root.Bokeh !== undefined && root.Bokeh.Panel !== undefined && (root['Plotly'] !== undefined)) {\n",
       "        clearInterval(timer);\n",
       "        embed_document(root);\n",
       "      } else if (document.readyState == \"complete\") {\n",
       "        attempts++;\n",
       "        if (attempts > 200) {\n",
       "          clearInterval(timer);\n",
       "          console.log(\"Bokeh: ERROR: Unable to run BokehJS code because BokehJS library is missing\");\n",
       "        }\n",
       "      }\n",
       "    }, 25, root)\n",
       "  }\n",
       "})(window);</script>"
      ],
      "text/plain": [
       ":DynamicMap   [neighborhood]\n",
       "   :Bars   [year,Variable]   (value)"
      ]
     },
     "execution_count": 22,
     "metadata": {
      "application/vnd.holoviews_exec.v0+json": {
       "id": "1733"
      }
     },
     "output_type": "execute_result"
    }
   ],
   "source": [
    "def most_expensive_neighborhoods_rent_sales():\n",
    "    \"\"\"Comparison of Rent and Sales Prices of Most Expensive Neighborhoods.\"\"\"   \n",
    "    \n",
    "cost_df\n",
    "cost_df.hvplot.bar(\"year\", [\"gross_rent\", \"sale_price_sqr_foot\"], groupby=\"neighborhood\",title= \"SFO Neighborhoods\", rot=90, ylabel=\"Price\", xlabel= \"Year\", height=400)\n",
    "\n",
    "        "
   ]
  },
  {
   "cell_type": "code",
   "execution_count": 23,
   "metadata": {},
   "outputs": [
    {
     "data": {
      "application/vnd.plotly.v1+json": {
       "config": {
        "plotlyServerURL": "https://plot.ly"
       },
       "data": [
        {
         "hovertemplate": "<b>%{hovertext}</b><br><br>sale_price_sqr_foot=%{marker.size}<br>Lat=%{lat}<br>Lon=%{lon}<br>gross_rent=%{marker.color}<extra></extra>",
         "hovertext": [
          "Alamo Square",
          "Anza Vista",
          "Bayview",
          "Bayview Heights",
          "Buena Vista Park",
          "Central Richmond",
          "Central Sunset",
          "Clarendon Heights",
          "Corona Heights",
          "Cow Hollow",
          "Croker Amazon",
          "Diamond Heights",
          "Duboce Triangle",
          "Eureka Valley/Dolores Heights",
          "Excelsior",
          "Financial District North",
          "Financial District South",
          "Forest Knolls",
          "Glen Park",
          "Golden Gate Heights",
          "Haight Ashbury",
          "Hayes Valley",
          "Hunters Point",
          "Ingleside Heights",
          "Inner Mission",
          "Inner Parkside",
          "Inner Richmond",
          "Inner Sunset",
          "Jordan Park/Laurel Heights",
          "Lake --The Presidio",
          "Lone Mountain",
          "Lower Pacific Heights",
          "Marina",
          "Merced Heights",
          "Midtown Terrace",
          "Miraloma Park",
          "Mission Bay",
          "Mission Dolores",
          "Mission Terrace",
          "Nob Hill",
          "Noe Valley",
          "North Beach",
          "North Waterfront",
          "Oceanview",
          "Outer Mission",
          "Outer Parkside",
          "Outer Sunset",
          "Pacific Heights",
          "Park North",
          "Parkside",
          "Parnassus/Ashbury Heights",
          "Portola",
          "Potrero Hill",
          "Presidio Heights",
          "Russian Hill",
          "Silver Terrace",
          "South Beach",
          "South of Market",
          "Sunnyside",
          "Telegraph Hill",
          "Twin Peaks",
          "Union Square District",
          "Van Ness/ Civic Center",
          "Visitacion Valley",
          "West Portal",
          "Western Addition",
          "Westwood Highlands",
          "Westwood Park",
          "Yerba Buena"
         ],
         "lat": [
          37.791012,
          37.779598,
          37.73467,
          37.72874,
          37.76816,
          37.77789,
          37.74961,
          37.75331,
          37.78553,
          37.79298,
          37.7228,
          37.72863,
          37.76964,
          37.75554,
          37.72874,
          37.79101,
          37.79101,
          37.75706,
          37.72863,
          37.757912,
          37.76525,
          37.76525,
          37.72551,
          37.72116,
          37.75416,
          37.74961,
          37.769112,
          37.74961,
          37.78553,
          37.80152,
          37.7789,
          37.79298,
          37.79972,
          37.71993,
          37.75331,
          37.73415,
          37.78323,
          37.75184,
          37.72863,
          37.79298,
          37.75331,
          37.80055,
          37.80055,
          37.71993,
          37.7228,
          37.7517,
          37.74961,
          37.79298,
          37.72838,
          37.74961,
          37.76355,
          37.73467,
          37.73196,
          37.78553,
          37.79298,
          37.73467,
          37.78323,
          37.79101,
          37.73415,
          37.80055,
          37.753311,
          37.79101,
          37.77951,
          37.72874,
          37.74026,
          37.79298,
          37.7347,
          37.73415,
          37.79298
         ],
         "legendgroup": "",
         "lon": [
          -122.4021,
          -122.443451,
          -122.40106,
          -122.41098,
          -122.43933,
          -122.44517,
          -122.48999,
          -122.44703,
          -122.456,
          -122.43579,
          -122.43869,
          -122.44305,
          -122.42611,
          -122.43779,
          -122.41098,
          -122.4021,
          -122.4021,
          -122.45509,
          -122.44305,
          -122.46402,
          -122.43596,
          -122.43596,
          -122.37178,
          -122.48707,
          -122.41947,
          -122.48999,
          -122.483566,
          -122.48997,
          -122.456,
          -122.45457,
          -122.45496,
          -122.43579,
          -122.46689,
          -122.46595,
          -122.44703,
          -122.457,
          -122.40065,
          -122.42522,
          -122.44305,
          -122.43579,
          -122.44703,
          -122.40433,
          -122.40433,
          -122.46595,
          -122.43869,
          -122.446,
          -122.48999,
          -122.43579,
          -122.47851,
          -122.48999,
          -122.45765,
          -122.40106,
          -122.38324,
          -122.456,
          -122.43579,
          -122.40106,
          -122.40065,
          -122.4021,
          -122.457,
          -122.40433,
          -122.447029,
          -122.4021,
          -122.42022,
          -122.41098,
          -122.46388,
          -122.43579,
          -122.456854,
          -122.457,
          -122.39636
         ],
         "marker": {
          "color": [
           2817.285714285714,
           3031.8333333333335,
           2318.4,
           3739,
           2698.8333333333335,
           2817.285714285714,
           2817.285714285714,
           2250.5,
           2472,
           2817.285714285714,
           2698.8333333333335,
           2016,
           2780.25,
           2817.285714285714,
           3031.8333333333335,
           2817.285714285714,
           2472,
           1781.5,
           2899.5,
           2601.4,
           2817.285714285714,
           2817.285714285714,
           2489,
           2960,
           2817.285714285714,
           3224,
           2817.285714285714,
           2817.285714285714,
           2817.285714285714,
           2555.1666666666665,
           2555.1666666666665,
           2817.285714285714,
           2817.285714285714,
           3414,
           2647.5,
           2155.25,
           2663.6666666666665,
           2555.1666666666665,
           3173.4,
           2817.285714285714,
           2817.285714285714,
           2990.8,
           2818.4,
           2434,
           2995.75,
           2817.285714285714,
           2817.285714285714,
           2817.285714285714,
           2817.285714285714,
           2555.1666666666665,
           2817.285714285714,
           2318.4,
           2817.285714285714,
           2817.285714285714,
           2817.285714285714,
           3528,
           2099,
           2817.285714285714,
           2899.5,
           2817.285714285714,
           2817.285714285714,
           2555.1666666666665,
           2817.285714285714,
           3657,
           2515.5,
           2555.1666666666665,
           2250.5,
           3959,
           2555.1666666666665
          ],
          "coloraxis": "coloraxis",
          "size": [
           366.02071153227644,
           373.382197826477,
           204.58862288246596,
           590.7928388746803,
           452.6805909308441,
           394.42239878005887,
           423.68792770158234,
           487.2448860262576,
           587.5390673661739,
           665.9640415783227,
           303.0041844084943,
           434.9917394452212,
           502.59915555623616,
           642.2486706357391,
           388.7659270023075,
           391.36253308010487,
           455.83621223779153,
           321.84083657398736,
           623.8261775374349,
           639.3935574881156,
           449.5447622856192,
           355.93282794805776,
           170.62491987132685,
           384.7979281346047,
           397.67371473613446,
           519.3856038526768,
           378.5943139613646,
           413.66751546215943,
           529.3841850673389,
           409.95435219297514,
           478.2285530213679,
           539.237968878326,
           583.7492694814548,
           788.8448175872469,
           550.5103482917151,
           779.810842264425,
           566.1922135483312,
           418.9156225067234,
           523.4662013248023,
           458.2040944846015,
           542.4429128151736,
           411.646875881678,
           498.2697550078768,
           330.0973846552545,
           242.37095202049665,
           485.0270126111035,
           394.21903228550775,
           689.5558168113664,
           373.73285637176303,
           336.172661037069,
           632.740453508577,
           327.1139253464728,
           662.0136128276529,
           675.3502120510033,
           608.9832172374425,
           170.2925485152069,
           650.1244791945729,
           570.2714266991686,
           528.3183317138463,
           676.5065775293257,
           469.39862649935156,
           903.9932576720645,
           404.1501801622257,
           301.46617997450267,
           498.4884848295011,
           307.5622009799607,
           533.7039354359513,
           687.0875745178322,
           576.709848378276
          ],
          "sizemode": "area",
          "sizeref": 4.017747811875842
         },
         "mode": "markers",
         "name": "",
         "showlegend": false,
         "subplot": "mapbox",
         "type": "scattermapbox"
        }
       ],
       "layout": {
        "coloraxis": {
         "colorbar": {
          "title": {
           "text": "gross_rent"
          }
         },
         "colorscale": [
          [
           0,
           "#000000"
          ],
          [
           0.0625,
           "#001f4d"
          ],
          [
           0.125,
           "#003786"
          ],
          [
           0.1875,
           "#0e58a8"
          ],
          [
           0.25,
           "#217eb8"
          ],
          [
           0.3125,
           "#30a4ca"
          ],
          [
           0.375,
           "#54c8df"
          ],
          [
           0.4375,
           "#9be4ef"
          ],
          [
           0.5,
           "#e1e9d1"
          ],
          [
           0.5625,
           "#f3d573"
          ],
          [
           0.625,
           "#e7b000"
          ],
          [
           0.6875,
           "#da8200"
          ],
          [
           0.75,
           "#c65400"
          ],
          [
           0.8125,
           "#ac2301"
          ],
          [
           0.875,
           "#820000"
          ],
          [
           0.9375,
           "#4c0000"
          ],
          [
           1,
           "#000000"
          ]
         ]
        },
        "legend": {
         "itemsizing": "constant",
         "tracegroupgap": 0
        },
        "mapbox": {
         "center": {
          "lat": 37.76064079710145,
          "lon": -122.43826449275363
         },
         "domain": {
          "x": [
           0,
           1
          ],
          "y": [
           0,
           1
          ]
         },
         "zoom": 11
        },
        "template": {
         "data": {
          "bar": [
           {
            "error_x": {
             "color": "#2a3f5f"
            },
            "error_y": {
             "color": "#2a3f5f"
            },
            "marker": {
             "line": {
              "color": "#E5ECF6",
              "width": 0.5
             },
             "pattern": {
              "fillmode": "overlay",
              "size": 10,
              "solidity": 0.2
             }
            },
            "type": "bar"
           }
          ],
          "barpolar": [
           {
            "marker": {
             "line": {
              "color": "#E5ECF6",
              "width": 0.5
             },
             "pattern": {
              "fillmode": "overlay",
              "size": 10,
              "solidity": 0.2
             }
            },
            "type": "barpolar"
           }
          ],
          "carpet": [
           {
            "aaxis": {
             "endlinecolor": "#2a3f5f",
             "gridcolor": "white",
             "linecolor": "white",
             "minorgridcolor": "white",
             "startlinecolor": "#2a3f5f"
            },
            "baxis": {
             "endlinecolor": "#2a3f5f",
             "gridcolor": "white",
             "linecolor": "white",
             "minorgridcolor": "white",
             "startlinecolor": "#2a3f5f"
            },
            "type": "carpet"
           }
          ],
          "choropleth": [
           {
            "colorbar": {
             "outlinewidth": 0,
             "ticks": ""
            },
            "type": "choropleth"
           }
          ],
          "contour": [
           {
            "colorbar": {
             "outlinewidth": 0,
             "ticks": ""
            },
            "colorscale": [
             [
              0,
              "#0d0887"
             ],
             [
              0.1111111111111111,
              "#46039f"
             ],
             [
              0.2222222222222222,
              "#7201a8"
             ],
             [
              0.3333333333333333,
              "#9c179e"
             ],
             [
              0.4444444444444444,
              "#bd3786"
             ],
             [
              0.5555555555555556,
              "#d8576b"
             ],
             [
              0.6666666666666666,
              "#ed7953"
             ],
             [
              0.7777777777777778,
              "#fb9f3a"
             ],
             [
              0.8888888888888888,
              "#fdca26"
             ],
             [
              1,
              "#f0f921"
             ]
            ],
            "type": "contour"
           }
          ],
          "contourcarpet": [
           {
            "colorbar": {
             "outlinewidth": 0,
             "ticks": ""
            },
            "type": "contourcarpet"
           }
          ],
          "heatmap": [
           {
            "colorbar": {
             "outlinewidth": 0,
             "ticks": ""
            },
            "colorscale": [
             [
              0,
              "#0d0887"
             ],
             [
              0.1111111111111111,
              "#46039f"
             ],
             [
              0.2222222222222222,
              "#7201a8"
             ],
             [
              0.3333333333333333,
              "#9c179e"
             ],
             [
              0.4444444444444444,
              "#bd3786"
             ],
             [
              0.5555555555555556,
              "#d8576b"
             ],
             [
              0.6666666666666666,
              "#ed7953"
             ],
             [
              0.7777777777777778,
              "#fb9f3a"
             ],
             [
              0.8888888888888888,
              "#fdca26"
             ],
             [
              1,
              "#f0f921"
             ]
            ],
            "type": "heatmap"
           }
          ],
          "heatmapgl": [
           {
            "colorbar": {
             "outlinewidth": 0,
             "ticks": ""
            },
            "colorscale": [
             [
              0,
              "#0d0887"
             ],
             [
              0.1111111111111111,
              "#46039f"
             ],
             [
              0.2222222222222222,
              "#7201a8"
             ],
             [
              0.3333333333333333,
              "#9c179e"
             ],
             [
              0.4444444444444444,
              "#bd3786"
             ],
             [
              0.5555555555555556,
              "#d8576b"
             ],
             [
              0.6666666666666666,
              "#ed7953"
             ],
             [
              0.7777777777777778,
              "#fb9f3a"
             ],
             [
              0.8888888888888888,
              "#fdca26"
             ],
             [
              1,
              "#f0f921"
             ]
            ],
            "type": "heatmapgl"
           }
          ],
          "histogram": [
           {
            "marker": {
             "pattern": {
              "fillmode": "overlay",
              "size": 10,
              "solidity": 0.2
             }
            },
            "type": "histogram"
           }
          ],
          "histogram2d": [
           {
            "colorbar": {
             "outlinewidth": 0,
             "ticks": ""
            },
            "colorscale": [
             [
              0,
              "#0d0887"
             ],
             [
              0.1111111111111111,
              "#46039f"
             ],
             [
              0.2222222222222222,
              "#7201a8"
             ],
             [
              0.3333333333333333,
              "#9c179e"
             ],
             [
              0.4444444444444444,
              "#bd3786"
             ],
             [
              0.5555555555555556,
              "#d8576b"
             ],
             [
              0.6666666666666666,
              "#ed7953"
             ],
             [
              0.7777777777777778,
              "#fb9f3a"
             ],
             [
              0.8888888888888888,
              "#fdca26"
             ],
             [
              1,
              "#f0f921"
             ]
            ],
            "type": "histogram2d"
           }
          ],
          "histogram2dcontour": [
           {
            "colorbar": {
             "outlinewidth": 0,
             "ticks": ""
            },
            "colorscale": [
             [
              0,
              "#0d0887"
             ],
             [
              0.1111111111111111,
              "#46039f"
             ],
             [
              0.2222222222222222,
              "#7201a8"
             ],
             [
              0.3333333333333333,
              "#9c179e"
             ],
             [
              0.4444444444444444,
              "#bd3786"
             ],
             [
              0.5555555555555556,
              "#d8576b"
             ],
             [
              0.6666666666666666,
              "#ed7953"
             ],
             [
              0.7777777777777778,
              "#fb9f3a"
             ],
             [
              0.8888888888888888,
              "#fdca26"
             ],
             [
              1,
              "#f0f921"
             ]
            ],
            "type": "histogram2dcontour"
           }
          ],
          "mesh3d": [
           {
            "colorbar": {
             "outlinewidth": 0,
             "ticks": ""
            },
            "type": "mesh3d"
           }
          ],
          "parcoords": [
           {
            "line": {
             "colorbar": {
              "outlinewidth": 0,
              "ticks": ""
             }
            },
            "type": "parcoords"
           }
          ],
          "pie": [
           {
            "automargin": true,
            "type": "pie"
           }
          ],
          "scatter": [
           {
            "marker": {
             "colorbar": {
              "outlinewidth": 0,
              "ticks": ""
             }
            },
            "type": "scatter"
           }
          ],
          "scatter3d": [
           {
            "line": {
             "colorbar": {
              "outlinewidth": 0,
              "ticks": ""
             }
            },
            "marker": {
             "colorbar": {
              "outlinewidth": 0,
              "ticks": ""
             }
            },
            "type": "scatter3d"
           }
          ],
          "scattercarpet": [
           {
            "marker": {
             "colorbar": {
              "outlinewidth": 0,
              "ticks": ""
             }
            },
            "type": "scattercarpet"
           }
          ],
          "scattergeo": [
           {
            "marker": {
             "colorbar": {
              "outlinewidth": 0,
              "ticks": ""
             }
            },
            "type": "scattergeo"
           }
          ],
          "scattergl": [
           {
            "marker": {
             "colorbar": {
              "outlinewidth": 0,
              "ticks": ""
             }
            },
            "type": "scattergl"
           }
          ],
          "scattermapbox": [
           {
            "marker": {
             "colorbar": {
              "outlinewidth": 0,
              "ticks": ""
             }
            },
            "type": "scattermapbox"
           }
          ],
          "scatterpolar": [
           {
            "marker": {
             "colorbar": {
              "outlinewidth": 0,
              "ticks": ""
             }
            },
            "type": "scatterpolar"
           }
          ],
          "scatterpolargl": [
           {
            "marker": {
             "colorbar": {
              "outlinewidth": 0,
              "ticks": ""
             }
            },
            "type": "scatterpolargl"
           }
          ],
          "scatterternary": [
           {
            "marker": {
             "colorbar": {
              "outlinewidth": 0,
              "ticks": ""
             }
            },
            "type": "scatterternary"
           }
          ],
          "surface": [
           {
            "colorbar": {
             "outlinewidth": 0,
             "ticks": ""
            },
            "colorscale": [
             [
              0,
              "#0d0887"
             ],
             [
              0.1111111111111111,
              "#46039f"
             ],
             [
              0.2222222222222222,
              "#7201a8"
             ],
             [
              0.3333333333333333,
              "#9c179e"
             ],
             [
              0.4444444444444444,
              "#bd3786"
             ],
             [
              0.5555555555555556,
              "#d8576b"
             ],
             [
              0.6666666666666666,
              "#ed7953"
             ],
             [
              0.7777777777777778,
              "#fb9f3a"
             ],
             [
              0.8888888888888888,
              "#fdca26"
             ],
             [
              1,
              "#f0f921"
             ]
            ],
            "type": "surface"
           }
          ],
          "table": [
           {
            "cells": {
             "fill": {
              "color": "#EBF0F8"
             },
             "line": {
              "color": "white"
             }
            },
            "header": {
             "fill": {
              "color": "#C8D4E3"
             },
             "line": {
              "color": "white"
             }
            },
            "type": "table"
           }
          ]
         },
         "layout": {
          "annotationdefaults": {
           "arrowcolor": "#2a3f5f",
           "arrowhead": 0,
           "arrowwidth": 1
          },
          "autotypenumbers": "strict",
          "coloraxis": {
           "colorbar": {
            "outlinewidth": 0,
            "ticks": ""
           }
          },
          "colorscale": {
           "diverging": [
            [
             0,
             "#8e0152"
            ],
            [
             0.1,
             "#c51b7d"
            ],
            [
             0.2,
             "#de77ae"
            ],
            [
             0.3,
             "#f1b6da"
            ],
            [
             0.4,
             "#fde0ef"
            ],
            [
             0.5,
             "#f7f7f7"
            ],
            [
             0.6,
             "#e6f5d0"
            ],
            [
             0.7,
             "#b8e186"
            ],
            [
             0.8,
             "#7fbc41"
            ],
            [
             0.9,
             "#4d9221"
            ],
            [
             1,
             "#276419"
            ]
           ],
           "sequential": [
            [
             0,
             "#0d0887"
            ],
            [
             0.1111111111111111,
             "#46039f"
            ],
            [
             0.2222222222222222,
             "#7201a8"
            ],
            [
             0.3333333333333333,
             "#9c179e"
            ],
            [
             0.4444444444444444,
             "#bd3786"
            ],
            [
             0.5555555555555556,
             "#d8576b"
            ],
            [
             0.6666666666666666,
             "#ed7953"
            ],
            [
             0.7777777777777778,
             "#fb9f3a"
            ],
            [
             0.8888888888888888,
             "#fdca26"
            ],
            [
             1,
             "#f0f921"
            ]
           ],
           "sequentialminus": [
            [
             0,
             "#0d0887"
            ],
            [
             0.1111111111111111,
             "#46039f"
            ],
            [
             0.2222222222222222,
             "#7201a8"
            ],
            [
             0.3333333333333333,
             "#9c179e"
            ],
            [
             0.4444444444444444,
             "#bd3786"
            ],
            [
             0.5555555555555556,
             "#d8576b"
            ],
            [
             0.6666666666666666,
             "#ed7953"
            ],
            [
             0.7777777777777778,
             "#fb9f3a"
            ],
            [
             0.8888888888888888,
             "#fdca26"
            ],
            [
             1,
             "#f0f921"
            ]
           ]
          },
          "colorway": [
           "#636efa",
           "#EF553B",
           "#00cc96",
           "#ab63fa",
           "#FFA15A",
           "#19d3f3",
           "#FF6692",
           "#B6E880",
           "#FF97FF",
           "#FECB52"
          ],
          "font": {
           "color": "#2a3f5f"
          },
          "geo": {
           "bgcolor": "white",
           "lakecolor": "white",
           "landcolor": "#E5ECF6",
           "showlakes": true,
           "showland": true,
           "subunitcolor": "white"
          },
          "hoverlabel": {
           "align": "left"
          },
          "hovermode": "closest",
          "mapbox": {
           "style": "light"
          },
          "paper_bgcolor": "white",
          "plot_bgcolor": "#E5ECF6",
          "polar": {
           "angularaxis": {
            "gridcolor": "white",
            "linecolor": "white",
            "ticks": ""
           },
           "bgcolor": "#E5ECF6",
           "radialaxis": {
            "gridcolor": "white",
            "linecolor": "white",
            "ticks": ""
           }
          },
          "scene": {
           "xaxis": {
            "backgroundcolor": "#E5ECF6",
            "gridcolor": "white",
            "gridwidth": 2,
            "linecolor": "white",
            "showbackground": true,
            "ticks": "",
            "zerolinecolor": "white"
           },
           "yaxis": {
            "backgroundcolor": "#E5ECF6",
            "gridcolor": "white",
            "gridwidth": 2,
            "linecolor": "white",
            "showbackground": true,
            "ticks": "",
            "zerolinecolor": "white"
           },
           "zaxis": {
            "backgroundcolor": "#E5ECF6",
            "gridcolor": "white",
            "gridwidth": 2,
            "linecolor": "white",
            "showbackground": true,
            "ticks": "",
            "zerolinecolor": "white"
           }
          },
          "shapedefaults": {
           "line": {
            "color": "#2a3f5f"
           }
          },
          "ternary": {
           "aaxis": {
            "gridcolor": "white",
            "linecolor": "white",
            "ticks": ""
           },
           "baxis": {
            "gridcolor": "white",
            "linecolor": "white",
            "ticks": ""
           },
           "bgcolor": "#E5ECF6",
           "caxis": {
            "gridcolor": "white",
            "linecolor": "white",
            "ticks": ""
           }
          },
          "title": {
           "x": 0.05
          },
          "xaxis": {
           "automargin": true,
           "gridcolor": "white",
           "linecolor": "white",
           "ticks": "",
           "title": {
            "standoff": 15
           },
           "zerolinecolor": "white",
           "zerolinewidth": 2
          },
          "yaxis": {
           "automargin": true,
           "gridcolor": "white",
           "linecolor": "white",
           "ticks": "",
           "title": {
            "standoff": 15
           },
           "zerolinecolor": "white",
           "zerolinewidth": 2
          }
         }
        },
        "title": {
         "text": "Average Price Per Sqr Foot in San Francisco"
        }
       }
      },
      "text/html": [
       "<div>                            <div id=\"800e9a09-8c0c-408d-91a8-70df5807c31f\" class=\"plotly-graph-div\" style=\"height:525px; width:100%;\"></div>            <script type=\"text/javascript\">                require([\"plotly\"], function(Plotly) {                    window.PLOTLYENV=window.PLOTLYENV || {};                                    if (document.getElementById(\"800e9a09-8c0c-408d-91a8-70df5807c31f\")) {                    Plotly.newPlot(                        \"800e9a09-8c0c-408d-91a8-70df5807c31f\",                        [{\"hovertemplate\":\"<b>%{hovertext}</b><br><br>sale_price_sqr_foot=%{marker.size}<br>Lat=%{lat}<br>Lon=%{lon}<br>gross_rent=%{marker.color}<extra></extra>\",\"hovertext\":[\"Alamo Square\",\"Anza Vista\",\"Bayview\",\"Bayview Heights\",\"Buena Vista Park\",\"Central Richmond\",\"Central Sunset\",\"Clarendon Heights\",\"Corona Heights\",\"Cow Hollow\",\"Croker Amazon\",\"Diamond Heights\",\"Duboce Triangle\",\"Eureka Valley/Dolores Heights\",\"Excelsior\",\"Financial District North\",\"Financial District South\",\"Forest Knolls\",\"Glen Park\",\"Golden Gate Heights\",\"Haight Ashbury\",\"Hayes Valley\",\"Hunters Point\",\"Ingleside Heights\",\"Inner Mission\",\"Inner Parkside\",\"Inner Richmond\",\"Inner Sunset\",\"Jordan Park/Laurel Heights\",\"Lake --The Presidio\",\"Lone Mountain\",\"Lower Pacific Heights\",\"Marina\",\"Merced Heights\",\"Midtown Terrace\",\"Miraloma Park\",\"Mission Bay\",\"Mission Dolores\",\"Mission Terrace\",\"Nob Hill\",\"Noe Valley\",\"North Beach\",\"North Waterfront\",\"Oceanview\",\"Outer Mission\",\"Outer Parkside\",\"Outer Sunset\",\"Pacific Heights\",\"Park North\",\"Parkside\",\"Parnassus/Ashbury Heights\",\"Portola\",\"Potrero Hill\",\"Presidio Heights\",\"Russian Hill\",\"Silver Terrace\",\"South Beach\",\"South of Market\",\"Sunnyside\",\"Telegraph Hill\",\"Twin Peaks\",\"Union Square District\",\"Van Ness/ Civic Center\",\"Visitacion Valley\",\"West Portal\",\"Western Addition\",\"Westwood Highlands\",\"Westwood Park\",\"Yerba Buena\"],\"lat\":[37.791012,37.779598,37.73467,37.72874,37.76816,37.77789,37.74961,37.75331,37.78553,37.79298,37.7228,37.72863,37.76964,37.75554,37.72874,37.79101,37.79101,37.75706,37.72863,37.757912,37.76525,37.76525,37.72551,37.72116,37.75416,37.74961,37.769112,37.74961,37.78553,37.80152,37.7789,37.79298,37.79972,37.71993,37.75331,37.73415,37.78323,37.75184,37.72863,37.79298,37.75331,37.80055,37.80055,37.71993,37.7228,37.7517,37.74961,37.79298,37.72838,37.74961,37.76355,37.73467,37.73196,37.78553,37.79298,37.73467,37.78323,37.79101,37.73415,37.80055,37.753311,37.79101,37.77951,37.72874,37.74026,37.79298,37.7347,37.73415,37.79298],\"legendgroup\":\"\",\"lon\":[-122.4021,-122.443451,-122.40106,-122.41098,-122.43933,-122.44517,-122.48999,-122.44703,-122.456,-122.43579,-122.43869,-122.44305,-122.42611,-122.43779,-122.41098,-122.4021,-122.4021,-122.45509,-122.44305,-122.46402,-122.43596,-122.43596,-122.37178,-122.48707,-122.41947,-122.48999,-122.483566,-122.48997,-122.456,-122.45457,-122.45496,-122.43579,-122.46689,-122.46595,-122.44703,-122.457,-122.40065,-122.42522,-122.44305,-122.43579,-122.44703,-122.40433,-122.40433,-122.46595,-122.43869,-122.446,-122.48999,-122.43579,-122.47851,-122.48999,-122.45765,-122.40106,-122.38324,-122.456,-122.43579,-122.40106,-122.40065,-122.4021,-122.457,-122.40433,-122.447029,-122.4021,-122.42022,-122.41098,-122.46388,-122.43579,-122.456854,-122.457,-122.39636],\"marker\":{\"color\":[2817.285714285714,3031.8333333333335,2318.4,3739.0,2698.8333333333335,2817.285714285714,2817.285714285714,2250.5,2472.0,2817.285714285714,2698.8333333333335,2016.0,2780.25,2817.285714285714,3031.8333333333335,2817.285714285714,2472.0,1781.5,2899.5,2601.4,2817.285714285714,2817.285714285714,2489.0,2960.0,2817.285714285714,3224.0,2817.285714285714,2817.285714285714,2817.285714285714,2555.1666666666665,2555.1666666666665,2817.285714285714,2817.285714285714,3414.0,2647.5,2155.25,2663.6666666666665,2555.1666666666665,3173.4,2817.285714285714,2817.285714285714,2990.8,2818.4,2434.0,2995.75,2817.285714285714,2817.285714285714,2817.285714285714,2817.285714285714,2555.1666666666665,2817.285714285714,2318.4,2817.285714285714,2817.285714285714,2817.285714285714,3528.0,2099.0,2817.285714285714,2899.5,2817.285714285714,2817.285714285714,2555.1666666666665,2817.285714285714,3657.0,2515.5,2555.1666666666665,2250.5,3959.0,2555.1666666666665],\"coloraxis\":\"coloraxis\",\"size\":[366.02071153227644,373.382197826477,204.58862288246596,590.7928388746803,452.6805909308441,394.42239878005887,423.68792770158234,487.2448860262576,587.5390673661739,665.9640415783227,303.0041844084943,434.9917394452212,502.59915555623616,642.2486706357391,388.7659270023075,391.36253308010487,455.83621223779153,321.84083657398736,623.8261775374349,639.3935574881156,449.5447622856192,355.93282794805776,170.62491987132685,384.7979281346047,397.67371473613446,519.3856038526768,378.5943139613646,413.66751546215943,529.3841850673389,409.95435219297514,478.2285530213679,539.237968878326,583.7492694814548,788.8448175872469,550.5103482917151,779.810842264425,566.1922135483312,418.9156225067234,523.4662013248023,458.2040944846015,542.4429128151736,411.646875881678,498.2697550078768,330.0973846552545,242.37095202049665,485.0270126111035,394.21903228550775,689.5558168113664,373.73285637176303,336.172661037069,632.740453508577,327.1139253464728,662.0136128276529,675.3502120510033,608.9832172374425,170.2925485152069,650.1244791945729,570.2714266991686,528.3183317138463,676.5065775293257,469.39862649935156,903.9932576720645,404.1501801622257,301.46617997450267,498.4884848295011,307.5622009799607,533.7039354359513,687.0875745178322,576.709848378276],\"sizemode\":\"area\",\"sizeref\":4.017747811875842},\"mode\":\"markers\",\"name\":\"\",\"showlegend\":false,\"subplot\":\"mapbox\",\"type\":\"scattermapbox\"}],                        {\"template\":{\"data\":{\"bar\":[{\"error_x\":{\"color\":\"#2a3f5f\"},\"error_y\":{\"color\":\"#2a3f5f\"},\"marker\":{\"line\":{\"color\":\"#E5ECF6\",\"width\":0.5},\"pattern\":{\"fillmode\":\"overlay\",\"size\":10,\"solidity\":0.2}},\"type\":\"bar\"}],\"barpolar\":[{\"marker\":{\"line\":{\"color\":\"#E5ECF6\",\"width\":0.5},\"pattern\":{\"fillmode\":\"overlay\",\"size\":10,\"solidity\":0.2}},\"type\":\"barpolar\"}],\"carpet\":[{\"aaxis\":{\"endlinecolor\":\"#2a3f5f\",\"gridcolor\":\"white\",\"linecolor\":\"white\",\"minorgridcolor\":\"white\",\"startlinecolor\":\"#2a3f5f\"},\"baxis\":{\"endlinecolor\":\"#2a3f5f\",\"gridcolor\":\"white\",\"linecolor\":\"white\",\"minorgridcolor\":\"white\",\"startlinecolor\":\"#2a3f5f\"},\"type\":\"carpet\"}],\"choropleth\":[{\"colorbar\":{\"outlinewidth\":0,\"ticks\":\"\"},\"type\":\"choropleth\"}],\"contour\":[{\"colorbar\":{\"outlinewidth\":0,\"ticks\":\"\"},\"colorscale\":[[0.0,\"#0d0887\"],[0.1111111111111111,\"#46039f\"],[0.2222222222222222,\"#7201a8\"],[0.3333333333333333,\"#9c179e\"],[0.4444444444444444,\"#bd3786\"],[0.5555555555555556,\"#d8576b\"],[0.6666666666666666,\"#ed7953\"],[0.7777777777777778,\"#fb9f3a\"],[0.8888888888888888,\"#fdca26\"],[1.0,\"#f0f921\"]],\"type\":\"contour\"}],\"contourcarpet\":[{\"colorbar\":{\"outlinewidth\":0,\"ticks\":\"\"},\"type\":\"contourcarpet\"}],\"heatmap\":[{\"colorbar\":{\"outlinewidth\":0,\"ticks\":\"\"},\"colorscale\":[[0.0,\"#0d0887\"],[0.1111111111111111,\"#46039f\"],[0.2222222222222222,\"#7201a8\"],[0.3333333333333333,\"#9c179e\"],[0.4444444444444444,\"#bd3786\"],[0.5555555555555556,\"#d8576b\"],[0.6666666666666666,\"#ed7953\"],[0.7777777777777778,\"#fb9f3a\"],[0.8888888888888888,\"#fdca26\"],[1.0,\"#f0f921\"]],\"type\":\"heatmap\"}],\"heatmapgl\":[{\"colorbar\":{\"outlinewidth\":0,\"ticks\":\"\"},\"colorscale\":[[0.0,\"#0d0887\"],[0.1111111111111111,\"#46039f\"],[0.2222222222222222,\"#7201a8\"],[0.3333333333333333,\"#9c179e\"],[0.4444444444444444,\"#bd3786\"],[0.5555555555555556,\"#d8576b\"],[0.6666666666666666,\"#ed7953\"],[0.7777777777777778,\"#fb9f3a\"],[0.8888888888888888,\"#fdca26\"],[1.0,\"#f0f921\"]],\"type\":\"heatmapgl\"}],\"histogram\":[{\"marker\":{\"pattern\":{\"fillmode\":\"overlay\",\"size\":10,\"solidity\":0.2}},\"type\":\"histogram\"}],\"histogram2d\":[{\"colorbar\":{\"outlinewidth\":0,\"ticks\":\"\"},\"colorscale\":[[0.0,\"#0d0887\"],[0.1111111111111111,\"#46039f\"],[0.2222222222222222,\"#7201a8\"],[0.3333333333333333,\"#9c179e\"],[0.4444444444444444,\"#bd3786\"],[0.5555555555555556,\"#d8576b\"],[0.6666666666666666,\"#ed7953\"],[0.7777777777777778,\"#fb9f3a\"],[0.8888888888888888,\"#fdca26\"],[1.0,\"#f0f921\"]],\"type\":\"histogram2d\"}],\"histogram2dcontour\":[{\"colorbar\":{\"outlinewidth\":0,\"ticks\":\"\"},\"colorscale\":[[0.0,\"#0d0887\"],[0.1111111111111111,\"#46039f\"],[0.2222222222222222,\"#7201a8\"],[0.3333333333333333,\"#9c179e\"],[0.4444444444444444,\"#bd3786\"],[0.5555555555555556,\"#d8576b\"],[0.6666666666666666,\"#ed7953\"],[0.7777777777777778,\"#fb9f3a\"],[0.8888888888888888,\"#fdca26\"],[1.0,\"#f0f921\"]],\"type\":\"histogram2dcontour\"}],\"mesh3d\":[{\"colorbar\":{\"outlinewidth\":0,\"ticks\":\"\"},\"type\":\"mesh3d\"}],\"parcoords\":[{\"line\":{\"colorbar\":{\"outlinewidth\":0,\"ticks\":\"\"}},\"type\":\"parcoords\"}],\"pie\":[{\"automargin\":true,\"type\":\"pie\"}],\"scatter\":[{\"marker\":{\"colorbar\":{\"outlinewidth\":0,\"ticks\":\"\"}},\"type\":\"scatter\"}],\"scatter3d\":[{\"line\":{\"colorbar\":{\"outlinewidth\":0,\"ticks\":\"\"}},\"marker\":{\"colorbar\":{\"outlinewidth\":0,\"ticks\":\"\"}},\"type\":\"scatter3d\"}],\"scattercarpet\":[{\"marker\":{\"colorbar\":{\"outlinewidth\":0,\"ticks\":\"\"}},\"type\":\"scattercarpet\"}],\"scattergeo\":[{\"marker\":{\"colorbar\":{\"outlinewidth\":0,\"ticks\":\"\"}},\"type\":\"scattergeo\"}],\"scattergl\":[{\"marker\":{\"colorbar\":{\"outlinewidth\":0,\"ticks\":\"\"}},\"type\":\"scattergl\"}],\"scattermapbox\":[{\"marker\":{\"colorbar\":{\"outlinewidth\":0,\"ticks\":\"\"}},\"type\":\"scattermapbox\"}],\"scatterpolar\":[{\"marker\":{\"colorbar\":{\"outlinewidth\":0,\"ticks\":\"\"}},\"type\":\"scatterpolar\"}],\"scatterpolargl\":[{\"marker\":{\"colorbar\":{\"outlinewidth\":0,\"ticks\":\"\"}},\"type\":\"scatterpolargl\"}],\"scatterternary\":[{\"marker\":{\"colorbar\":{\"outlinewidth\":0,\"ticks\":\"\"}},\"type\":\"scatterternary\"}],\"surface\":[{\"colorbar\":{\"outlinewidth\":0,\"ticks\":\"\"},\"colorscale\":[[0.0,\"#0d0887\"],[0.1111111111111111,\"#46039f\"],[0.2222222222222222,\"#7201a8\"],[0.3333333333333333,\"#9c179e\"],[0.4444444444444444,\"#bd3786\"],[0.5555555555555556,\"#d8576b\"],[0.6666666666666666,\"#ed7953\"],[0.7777777777777778,\"#fb9f3a\"],[0.8888888888888888,\"#fdca26\"],[1.0,\"#f0f921\"]],\"type\":\"surface\"}],\"table\":[{\"cells\":{\"fill\":{\"color\":\"#EBF0F8\"},\"line\":{\"color\":\"white\"}},\"header\":{\"fill\":{\"color\":\"#C8D4E3\"},\"line\":{\"color\":\"white\"}},\"type\":\"table\"}]},\"layout\":{\"annotationdefaults\":{\"arrowcolor\":\"#2a3f5f\",\"arrowhead\":0,\"arrowwidth\":1},\"autotypenumbers\":\"strict\",\"coloraxis\":{\"colorbar\":{\"outlinewidth\":0,\"ticks\":\"\"}},\"colorscale\":{\"diverging\":[[0,\"#8e0152\"],[0.1,\"#c51b7d\"],[0.2,\"#de77ae\"],[0.3,\"#f1b6da\"],[0.4,\"#fde0ef\"],[0.5,\"#f7f7f7\"],[0.6,\"#e6f5d0\"],[0.7,\"#b8e186\"],[0.8,\"#7fbc41\"],[0.9,\"#4d9221\"],[1,\"#276419\"]],\"sequential\":[[0.0,\"#0d0887\"],[0.1111111111111111,\"#46039f\"],[0.2222222222222222,\"#7201a8\"],[0.3333333333333333,\"#9c179e\"],[0.4444444444444444,\"#bd3786\"],[0.5555555555555556,\"#d8576b\"],[0.6666666666666666,\"#ed7953\"],[0.7777777777777778,\"#fb9f3a\"],[0.8888888888888888,\"#fdca26\"],[1.0,\"#f0f921\"]],\"sequentialminus\":[[0.0,\"#0d0887\"],[0.1111111111111111,\"#46039f\"],[0.2222222222222222,\"#7201a8\"],[0.3333333333333333,\"#9c179e\"],[0.4444444444444444,\"#bd3786\"],[0.5555555555555556,\"#d8576b\"],[0.6666666666666666,\"#ed7953\"],[0.7777777777777778,\"#fb9f3a\"],[0.8888888888888888,\"#fdca26\"],[1.0,\"#f0f921\"]]},\"colorway\":[\"#636efa\",\"#EF553B\",\"#00cc96\",\"#ab63fa\",\"#FFA15A\",\"#19d3f3\",\"#FF6692\",\"#B6E880\",\"#FF97FF\",\"#FECB52\"],\"font\":{\"color\":\"#2a3f5f\"},\"geo\":{\"bgcolor\":\"white\",\"lakecolor\":\"white\",\"landcolor\":\"#E5ECF6\",\"showlakes\":true,\"showland\":true,\"subunitcolor\":\"white\"},\"hoverlabel\":{\"align\":\"left\"},\"hovermode\":\"closest\",\"mapbox\":{\"style\":\"light\"},\"paper_bgcolor\":\"white\",\"plot_bgcolor\":\"#E5ECF6\",\"polar\":{\"angularaxis\":{\"gridcolor\":\"white\",\"linecolor\":\"white\",\"ticks\":\"\"},\"bgcolor\":\"#E5ECF6\",\"radialaxis\":{\"gridcolor\":\"white\",\"linecolor\":\"white\",\"ticks\":\"\"}},\"scene\":{\"xaxis\":{\"backgroundcolor\":\"#E5ECF6\",\"gridcolor\":\"white\",\"gridwidth\":2,\"linecolor\":\"white\",\"showbackground\":true,\"ticks\":\"\",\"zerolinecolor\":\"white\"},\"yaxis\":{\"backgroundcolor\":\"#E5ECF6\",\"gridcolor\":\"white\",\"gridwidth\":2,\"linecolor\":\"white\",\"showbackground\":true,\"ticks\":\"\",\"zerolinecolor\":\"white\"},\"zaxis\":{\"backgroundcolor\":\"#E5ECF6\",\"gridcolor\":\"white\",\"gridwidth\":2,\"linecolor\":\"white\",\"showbackground\":true,\"ticks\":\"\",\"zerolinecolor\":\"white\"}},\"shapedefaults\":{\"line\":{\"color\":\"#2a3f5f\"}},\"ternary\":{\"aaxis\":{\"gridcolor\":\"white\",\"linecolor\":\"white\",\"ticks\":\"\"},\"baxis\":{\"gridcolor\":\"white\",\"linecolor\":\"white\",\"ticks\":\"\"},\"bgcolor\":\"#E5ECF6\",\"caxis\":{\"gridcolor\":\"white\",\"linecolor\":\"white\",\"ticks\":\"\"}},\"title\":{\"x\":0.05},\"xaxis\":{\"automargin\":true,\"gridcolor\":\"white\",\"linecolor\":\"white\",\"ticks\":\"\",\"title\":{\"standoff\":15},\"zerolinecolor\":\"white\",\"zerolinewidth\":2},\"yaxis\":{\"automargin\":true,\"gridcolor\":\"white\",\"linecolor\":\"white\",\"ticks\":\"\",\"title\":{\"standoff\":15},\"zerolinecolor\":\"white\",\"zerolinewidth\":2}}},\"mapbox\":{\"domain\":{\"x\":[0.0,1.0],\"y\":[0.0,1.0]},\"center\":{\"lat\":37.76064079710145,\"lon\":-122.43826449275363},\"zoom\":11},\"coloraxis\":{\"colorbar\":{\"title\":{\"text\":\"gross_rent\"}},\"colorscale\":[[0.0,\"#000000\"],[0.0625,\"#001f4d\"],[0.125,\"#003786\"],[0.1875,\"#0e58a8\"],[0.25,\"#217eb8\"],[0.3125,\"#30a4ca\"],[0.375,\"#54c8df\"],[0.4375,\"#9be4ef\"],[0.5,\"#e1e9d1\"],[0.5625,\"#f3d573\"],[0.625,\"#e7b000\"],[0.6875,\"#da8200\"],[0.75,\"#c65400\"],[0.8125,\"#ac2301\"],[0.875,\"#820000\"],[0.9375,\"#4c0000\"],[1.0,\"#000000\"]]},\"legend\":{\"tracegroupgap\":0,\"itemsizing\":\"constant\"},\"title\":{\"text\":\"Average Price Per Sqr Foot in San Francisco\"}},                        {\"responsive\": true}                    ).then(function(){\n",
       "                            \n",
       "var gd = document.getElementById('800e9a09-8c0c-408d-91a8-70df5807c31f');\n",
       "var x = new MutationObserver(function (mutations, observer) {{\n",
       "        var display = window.getComputedStyle(gd).display;\n",
       "        if (!display || display === 'none') {{\n",
       "            console.log([gd, 'removed!']);\n",
       "            Plotly.purge(gd);\n",
       "            observer.disconnect();\n",
       "        }}\n",
       "}});\n",
       "\n",
       "// Listen for the removal of the full notebook cells\n",
       "var notebookContainer = gd.closest('#notebook-container');\n",
       "if (notebookContainer) {{\n",
       "    x.observe(notebookContainer, {childList: true});\n",
       "}}\n",
       "\n",
       "// Listen for the clearing of the current output cell\n",
       "var outputEl = gd.closest('.output');\n",
       "if (outputEl) {{\n",
       "    x.observe(outputEl, {childList: true});\n",
       "}}\n",
       "\n",
       "                        })                };                });            </script>        </div>"
      ]
     },
     "metadata": {},
     "output_type": "display_data"
    }
   ],
   "source": [
    "def neighborhood_map():\n",
    "    \"\"\"Neighborhood Map.\"\"\"\n",
    "\n",
    "neighborhood_loc\n",
    "all_neighborhoods = sfo_data.groupby(by=\"neighborhood\").mean()\n",
    "all_neighborhoods.reset_index(inplace=True)\n",
    "all_neighborhoods.rename(columns={\"neighborhood\" : \"Neighborhood\"}, inplace=True)\n",
    "all_neighborhoods = pd.merge(neighborhood_loc, all_neighborhoods, on=\"Neighborhood\", how=\"inner\")\n",
    "px.set_mapbox_access_token(map_box_api)\n",
    "neighborhood_map = px.scatter_mapbox(\n",
    "    all_neighborhoods,\n",
    "    lat = \"Lat\",\n",
    "    lon = \"Lon\",\n",
    "    size = \"sale_price_sqr_foot\",\n",
    "    color = \"gross_rent\",\n",
    "    color_continuous_scale= px.colors.cyclical.IceFire,\n",
    "    size_max = 15,\n",
    "    zoom = 11,\n",
    "    hover_name = \"Neighborhood\",\n",
    "    title = \"Average Price Per Sqr Foot in San Francisco\")\n",
    "\n",
    "#final neighborhood code\n",
    "neighborhood_map.show()"
   ]
  },
  {
   "cell_type": "code",
   "execution_count": 24,
   "metadata": {},
   "outputs": [
    {
     "data": {
      "application/vnd.plotly.v1+json": {
       "config": {
        "plotlyServerURL": "https://plot.ly"
       },
       "data": [
        {
         "hovertemplate": "<b>%{hovertext}</b><br><br>sale_price_sqr_foot=%{marker.size}<br>Lat=%{lat}<br>Lon=%{lon}<br>gross_rent=%{marker.color}<extra></extra>",
         "hovertext": [
          "Alamo Square",
          "Anza Vista",
          "Bayview",
          "Bayview Heights",
          "Buena Vista Park",
          "Central Richmond",
          "Central Sunset",
          "Clarendon Heights",
          "Corona Heights",
          "Cow Hollow",
          "Croker Amazon",
          "Diamond Heights",
          "Duboce Triangle",
          "Eureka Valley/Dolores Heights",
          "Excelsior",
          "Financial District North",
          "Financial District South",
          "Forest Knolls",
          "Glen Park",
          "Golden Gate Heights",
          "Haight Ashbury",
          "Hayes Valley",
          "Hunters Point",
          "Ingleside Heights",
          "Inner Mission",
          "Inner Parkside",
          "Inner Richmond",
          "Inner Sunset",
          "Jordan Park/Laurel Heights",
          "Lake --The Presidio",
          "Lone Mountain",
          "Lower Pacific Heights",
          "Marina",
          "Merced Heights",
          "Midtown Terrace",
          "Miraloma Park",
          "Mission Bay",
          "Mission Dolores",
          "Mission Terrace",
          "Nob Hill",
          "Noe Valley",
          "North Beach",
          "North Waterfront",
          "Oceanview",
          "Outer Mission",
          "Outer Parkside",
          "Outer Sunset",
          "Pacific Heights",
          "Park North",
          "Parkside",
          "Parnassus/Ashbury Heights",
          "Portola",
          "Potrero Hill",
          "Presidio Heights",
          "Russian Hill",
          "Silver Terrace",
          "South Beach",
          "South of Market",
          "Sunnyside",
          "Telegraph Hill",
          "Twin Peaks",
          "Union Square District",
          "Van Ness/ Civic Center",
          "Visitacion Valley",
          "West Portal",
          "Western Addition",
          "Westwood Highlands",
          "Westwood Park",
          "Yerba Buena"
         ],
         "lat": [
          37.791012,
          37.779598,
          37.73467,
          37.72874,
          37.76816,
          37.77789,
          37.74961,
          37.75331,
          37.78553,
          37.79298,
          37.7228,
          37.72863,
          37.76964,
          37.75554,
          37.72874,
          37.79101,
          37.79101,
          37.75706,
          37.72863,
          37.757912,
          37.76525,
          37.76525,
          37.72551,
          37.72116,
          37.75416,
          37.74961,
          37.769112,
          37.74961,
          37.78553,
          37.80152,
          37.7789,
          37.79298,
          37.79972,
          37.71993,
          37.75331,
          37.73415,
          37.78323,
          37.75184,
          37.72863,
          37.79298,
          37.75331,
          37.80055,
          37.80055,
          37.71993,
          37.7228,
          37.7517,
          37.74961,
          37.79298,
          37.72838,
          37.74961,
          37.76355,
          37.73467,
          37.73196,
          37.78553,
          37.79298,
          37.73467,
          37.78323,
          37.79101,
          37.73415,
          37.80055,
          37.753311,
          37.79101,
          37.77951,
          37.72874,
          37.74026,
          37.79298,
          37.7347,
          37.73415,
          37.79298
         ],
         "legendgroup": "",
         "lon": [
          -122.4021,
          -122.443451,
          -122.40106,
          -122.41098,
          -122.43933,
          -122.44517,
          -122.48999,
          -122.44703,
          -122.456,
          -122.43579,
          -122.43869,
          -122.44305,
          -122.42611,
          -122.43779,
          -122.41098,
          -122.4021,
          -122.4021,
          -122.45509,
          -122.44305,
          -122.46402,
          -122.43596,
          -122.43596,
          -122.37178,
          -122.48707,
          -122.41947,
          -122.48999,
          -122.483566,
          -122.48997,
          -122.456,
          -122.45457,
          -122.45496,
          -122.43579,
          -122.46689,
          -122.46595,
          -122.44703,
          -122.457,
          -122.40065,
          -122.42522,
          -122.44305,
          -122.43579,
          -122.44703,
          -122.40433,
          -122.40433,
          -122.46595,
          -122.43869,
          -122.446,
          -122.48999,
          -122.43579,
          -122.47851,
          -122.48999,
          -122.45765,
          -122.40106,
          -122.38324,
          -122.456,
          -122.43579,
          -122.40106,
          -122.40065,
          -122.4021,
          -122.457,
          -122.40433,
          -122.447029,
          -122.4021,
          -122.42022,
          -122.41098,
          -122.46388,
          -122.43579,
          -122.456854,
          -122.457,
          -122.39636
         ],
         "marker": {
          "color": [
           2817.285714285714,
           3031.8333333333335,
           2318.4,
           3739,
           2698.8333333333335,
           2817.285714285714,
           2817.285714285714,
           2250.5,
           2472,
           2817.285714285714,
           2698.8333333333335,
           2016,
           2780.25,
           2817.285714285714,
           3031.8333333333335,
           2817.285714285714,
           2472,
           1781.5,
           2899.5,
           2601.4,
           2817.285714285714,
           2817.285714285714,
           2489,
           2960,
           2817.285714285714,
           3224,
           2817.285714285714,
           2817.285714285714,
           2817.285714285714,
           2555.1666666666665,
           2555.1666666666665,
           2817.285714285714,
           2817.285714285714,
           3414,
           2647.5,
           2155.25,
           2663.6666666666665,
           2555.1666666666665,
           3173.4,
           2817.285714285714,
           2817.285714285714,
           2990.8,
           2818.4,
           2434,
           2995.75,
           2817.285714285714,
           2817.285714285714,
           2817.285714285714,
           2817.285714285714,
           2555.1666666666665,
           2817.285714285714,
           2318.4,
           2817.285714285714,
           2817.285714285714,
           2817.285714285714,
           3528,
           2099,
           2817.285714285714,
           2899.5,
           2817.285714285714,
           2817.285714285714,
           2555.1666666666665,
           2817.285714285714,
           3657,
           2515.5,
           2555.1666666666665,
           2250.5,
           3959,
           2555.1666666666665
          ],
          "coloraxis": "coloraxis",
          "size": [
           366.02071153227644,
           373.382197826477,
           204.58862288246596,
           590.7928388746803,
           452.6805909308441,
           394.42239878005887,
           423.68792770158234,
           487.2448860262576,
           587.5390673661739,
           665.9640415783227,
           303.0041844084943,
           434.9917394452212,
           502.59915555623616,
           642.2486706357391,
           388.7659270023075,
           391.36253308010487,
           455.83621223779153,
           321.84083657398736,
           623.8261775374349,
           639.3935574881156,
           449.5447622856192,
           355.93282794805776,
           170.62491987132685,
           384.7979281346047,
           397.67371473613446,
           519.3856038526768,
           378.5943139613646,
           413.66751546215943,
           529.3841850673389,
           409.95435219297514,
           478.2285530213679,
           539.237968878326,
           583.7492694814548,
           788.8448175872469,
           550.5103482917151,
           779.810842264425,
           566.1922135483312,
           418.9156225067234,
           523.4662013248023,
           458.2040944846015,
           542.4429128151736,
           411.646875881678,
           498.2697550078768,
           330.0973846552545,
           242.37095202049665,
           485.0270126111035,
           394.21903228550775,
           689.5558168113664,
           373.73285637176303,
           336.172661037069,
           632.740453508577,
           327.1139253464728,
           662.0136128276529,
           675.3502120510033,
           608.9832172374425,
           170.2925485152069,
           650.1244791945729,
           570.2714266991686,
           528.3183317138463,
           676.5065775293257,
           469.39862649935156,
           903.9932576720645,
           404.1501801622257,
           301.46617997450267,
           498.4884848295011,
           307.5622009799607,
           533.7039354359513,
           687.0875745178322,
           576.709848378276
          ],
          "sizemode": "area",
          "sizeref": 4.017747811875842
         },
         "mode": "markers",
         "name": "",
         "showlegend": false,
         "subplot": "mapbox",
         "type": "scattermapbox"
        }
       ],
       "layout": {
        "coloraxis": {
         "colorbar": {
          "title": {
           "text": "gross_rent"
          }
         },
         "colorscale": [
          [
           0,
           "#000000"
          ],
          [
           0.0625,
           "#001f4d"
          ],
          [
           0.125,
           "#003786"
          ],
          [
           0.1875,
           "#0e58a8"
          ],
          [
           0.25,
           "#217eb8"
          ],
          [
           0.3125,
           "#30a4ca"
          ],
          [
           0.375,
           "#54c8df"
          ],
          [
           0.4375,
           "#9be4ef"
          ],
          [
           0.5,
           "#e1e9d1"
          ],
          [
           0.5625,
           "#f3d573"
          ],
          [
           0.625,
           "#e7b000"
          ],
          [
           0.6875,
           "#da8200"
          ],
          [
           0.75,
           "#c65400"
          ],
          [
           0.8125,
           "#ac2301"
          ],
          [
           0.875,
           "#820000"
          ],
          [
           0.9375,
           "#4c0000"
          ],
          [
           1,
           "#000000"
          ]
         ]
        },
        "legend": {
         "itemsizing": "constant",
         "tracegroupgap": 0
        },
        "mapbox": {
         "center": {
          "lat": 37.76064079710145,
          "lon": -122.43826449275363
         },
         "domain": {
          "x": [
           0,
           1
          ],
          "y": [
           0,
           1
          ]
         },
         "zoom": 11
        },
        "template": {
         "data": {
          "bar": [
           {
            "error_x": {
             "color": "#2a3f5f"
            },
            "error_y": {
             "color": "#2a3f5f"
            },
            "marker": {
             "line": {
              "color": "#E5ECF6",
              "width": 0.5
             },
             "pattern": {
              "fillmode": "overlay",
              "size": 10,
              "solidity": 0.2
             }
            },
            "type": "bar"
           }
          ],
          "barpolar": [
           {
            "marker": {
             "line": {
              "color": "#E5ECF6",
              "width": 0.5
             },
             "pattern": {
              "fillmode": "overlay",
              "size": 10,
              "solidity": 0.2
             }
            },
            "type": "barpolar"
           }
          ],
          "carpet": [
           {
            "aaxis": {
             "endlinecolor": "#2a3f5f",
             "gridcolor": "white",
             "linecolor": "white",
             "minorgridcolor": "white",
             "startlinecolor": "#2a3f5f"
            },
            "baxis": {
             "endlinecolor": "#2a3f5f",
             "gridcolor": "white",
             "linecolor": "white",
             "minorgridcolor": "white",
             "startlinecolor": "#2a3f5f"
            },
            "type": "carpet"
           }
          ],
          "choropleth": [
           {
            "colorbar": {
             "outlinewidth": 0,
             "ticks": ""
            },
            "type": "choropleth"
           }
          ],
          "contour": [
           {
            "colorbar": {
             "outlinewidth": 0,
             "ticks": ""
            },
            "colorscale": [
             [
              0,
              "#0d0887"
             ],
             [
              0.1111111111111111,
              "#46039f"
             ],
             [
              0.2222222222222222,
              "#7201a8"
             ],
             [
              0.3333333333333333,
              "#9c179e"
             ],
             [
              0.4444444444444444,
              "#bd3786"
             ],
             [
              0.5555555555555556,
              "#d8576b"
             ],
             [
              0.6666666666666666,
              "#ed7953"
             ],
             [
              0.7777777777777778,
              "#fb9f3a"
             ],
             [
              0.8888888888888888,
              "#fdca26"
             ],
             [
              1,
              "#f0f921"
             ]
            ],
            "type": "contour"
           }
          ],
          "contourcarpet": [
           {
            "colorbar": {
             "outlinewidth": 0,
             "ticks": ""
            },
            "type": "contourcarpet"
           }
          ],
          "heatmap": [
           {
            "colorbar": {
             "outlinewidth": 0,
             "ticks": ""
            },
            "colorscale": [
             [
              0,
              "#0d0887"
             ],
             [
              0.1111111111111111,
              "#46039f"
             ],
             [
              0.2222222222222222,
              "#7201a8"
             ],
             [
              0.3333333333333333,
              "#9c179e"
             ],
             [
              0.4444444444444444,
              "#bd3786"
             ],
             [
              0.5555555555555556,
              "#d8576b"
             ],
             [
              0.6666666666666666,
              "#ed7953"
             ],
             [
              0.7777777777777778,
              "#fb9f3a"
             ],
             [
              0.8888888888888888,
              "#fdca26"
             ],
             [
              1,
              "#f0f921"
             ]
            ],
            "type": "heatmap"
           }
          ],
          "heatmapgl": [
           {
            "colorbar": {
             "outlinewidth": 0,
             "ticks": ""
            },
            "colorscale": [
             [
              0,
              "#0d0887"
             ],
             [
              0.1111111111111111,
              "#46039f"
             ],
             [
              0.2222222222222222,
              "#7201a8"
             ],
             [
              0.3333333333333333,
              "#9c179e"
             ],
             [
              0.4444444444444444,
              "#bd3786"
             ],
             [
              0.5555555555555556,
              "#d8576b"
             ],
             [
              0.6666666666666666,
              "#ed7953"
             ],
             [
              0.7777777777777778,
              "#fb9f3a"
             ],
             [
              0.8888888888888888,
              "#fdca26"
             ],
             [
              1,
              "#f0f921"
             ]
            ],
            "type": "heatmapgl"
           }
          ],
          "histogram": [
           {
            "marker": {
             "pattern": {
              "fillmode": "overlay",
              "size": 10,
              "solidity": 0.2
             }
            },
            "type": "histogram"
           }
          ],
          "histogram2d": [
           {
            "colorbar": {
             "outlinewidth": 0,
             "ticks": ""
            },
            "colorscale": [
             [
              0,
              "#0d0887"
             ],
             [
              0.1111111111111111,
              "#46039f"
             ],
             [
              0.2222222222222222,
              "#7201a8"
             ],
             [
              0.3333333333333333,
              "#9c179e"
             ],
             [
              0.4444444444444444,
              "#bd3786"
             ],
             [
              0.5555555555555556,
              "#d8576b"
             ],
             [
              0.6666666666666666,
              "#ed7953"
             ],
             [
              0.7777777777777778,
              "#fb9f3a"
             ],
             [
              0.8888888888888888,
              "#fdca26"
             ],
             [
              1,
              "#f0f921"
             ]
            ],
            "type": "histogram2d"
           }
          ],
          "histogram2dcontour": [
           {
            "colorbar": {
             "outlinewidth": 0,
             "ticks": ""
            },
            "colorscale": [
             [
              0,
              "#0d0887"
             ],
             [
              0.1111111111111111,
              "#46039f"
             ],
             [
              0.2222222222222222,
              "#7201a8"
             ],
             [
              0.3333333333333333,
              "#9c179e"
             ],
             [
              0.4444444444444444,
              "#bd3786"
             ],
             [
              0.5555555555555556,
              "#d8576b"
             ],
             [
              0.6666666666666666,
              "#ed7953"
             ],
             [
              0.7777777777777778,
              "#fb9f3a"
             ],
             [
              0.8888888888888888,
              "#fdca26"
             ],
             [
              1,
              "#f0f921"
             ]
            ],
            "type": "histogram2dcontour"
           }
          ],
          "mesh3d": [
           {
            "colorbar": {
             "outlinewidth": 0,
             "ticks": ""
            },
            "type": "mesh3d"
           }
          ],
          "parcoords": [
           {
            "line": {
             "colorbar": {
              "outlinewidth": 0,
              "ticks": ""
             }
            },
            "type": "parcoords"
           }
          ],
          "pie": [
           {
            "automargin": true,
            "type": "pie"
           }
          ],
          "scatter": [
           {
            "marker": {
             "colorbar": {
              "outlinewidth": 0,
              "ticks": ""
             }
            },
            "type": "scatter"
           }
          ],
          "scatter3d": [
           {
            "line": {
             "colorbar": {
              "outlinewidth": 0,
              "ticks": ""
             }
            },
            "marker": {
             "colorbar": {
              "outlinewidth": 0,
              "ticks": ""
             }
            },
            "type": "scatter3d"
           }
          ],
          "scattercarpet": [
           {
            "marker": {
             "colorbar": {
              "outlinewidth": 0,
              "ticks": ""
             }
            },
            "type": "scattercarpet"
           }
          ],
          "scattergeo": [
           {
            "marker": {
             "colorbar": {
              "outlinewidth": 0,
              "ticks": ""
             }
            },
            "type": "scattergeo"
           }
          ],
          "scattergl": [
           {
            "marker": {
             "colorbar": {
              "outlinewidth": 0,
              "ticks": ""
             }
            },
            "type": "scattergl"
           }
          ],
          "scattermapbox": [
           {
            "marker": {
             "colorbar": {
              "outlinewidth": 0,
              "ticks": ""
             }
            },
            "type": "scattermapbox"
           }
          ],
          "scatterpolar": [
           {
            "marker": {
             "colorbar": {
              "outlinewidth": 0,
              "ticks": ""
             }
            },
            "type": "scatterpolar"
           }
          ],
          "scatterpolargl": [
           {
            "marker": {
             "colorbar": {
              "outlinewidth": 0,
              "ticks": ""
             }
            },
            "type": "scatterpolargl"
           }
          ],
          "scatterternary": [
           {
            "marker": {
             "colorbar": {
              "outlinewidth": 0,
              "ticks": ""
             }
            },
            "type": "scatterternary"
           }
          ],
          "surface": [
           {
            "colorbar": {
             "outlinewidth": 0,
             "ticks": ""
            },
            "colorscale": [
             [
              0,
              "#0d0887"
             ],
             [
              0.1111111111111111,
              "#46039f"
             ],
             [
              0.2222222222222222,
              "#7201a8"
             ],
             [
              0.3333333333333333,
              "#9c179e"
             ],
             [
              0.4444444444444444,
              "#bd3786"
             ],
             [
              0.5555555555555556,
              "#d8576b"
             ],
             [
              0.6666666666666666,
              "#ed7953"
             ],
             [
              0.7777777777777778,
              "#fb9f3a"
             ],
             [
              0.8888888888888888,
              "#fdca26"
             ],
             [
              1,
              "#f0f921"
             ]
            ],
            "type": "surface"
           }
          ],
          "table": [
           {
            "cells": {
             "fill": {
              "color": "#EBF0F8"
             },
             "line": {
              "color": "white"
             }
            },
            "header": {
             "fill": {
              "color": "#C8D4E3"
             },
             "line": {
              "color": "white"
             }
            },
            "type": "table"
           }
          ]
         },
         "layout": {
          "annotationdefaults": {
           "arrowcolor": "#2a3f5f",
           "arrowhead": 0,
           "arrowwidth": 1
          },
          "autotypenumbers": "strict",
          "coloraxis": {
           "colorbar": {
            "outlinewidth": 0,
            "ticks": ""
           }
          },
          "colorscale": {
           "diverging": [
            [
             0,
             "#8e0152"
            ],
            [
             0.1,
             "#c51b7d"
            ],
            [
             0.2,
             "#de77ae"
            ],
            [
             0.3,
             "#f1b6da"
            ],
            [
             0.4,
             "#fde0ef"
            ],
            [
             0.5,
             "#f7f7f7"
            ],
            [
             0.6,
             "#e6f5d0"
            ],
            [
             0.7,
             "#b8e186"
            ],
            [
             0.8,
             "#7fbc41"
            ],
            [
             0.9,
             "#4d9221"
            ],
            [
             1,
             "#276419"
            ]
           ],
           "sequential": [
            [
             0,
             "#0d0887"
            ],
            [
             0.1111111111111111,
             "#46039f"
            ],
            [
             0.2222222222222222,
             "#7201a8"
            ],
            [
             0.3333333333333333,
             "#9c179e"
            ],
            [
             0.4444444444444444,
             "#bd3786"
            ],
            [
             0.5555555555555556,
             "#d8576b"
            ],
            [
             0.6666666666666666,
             "#ed7953"
            ],
            [
             0.7777777777777778,
             "#fb9f3a"
            ],
            [
             0.8888888888888888,
             "#fdca26"
            ],
            [
             1,
             "#f0f921"
            ]
           ],
           "sequentialminus": [
            [
             0,
             "#0d0887"
            ],
            [
             0.1111111111111111,
             "#46039f"
            ],
            [
             0.2222222222222222,
             "#7201a8"
            ],
            [
             0.3333333333333333,
             "#9c179e"
            ],
            [
             0.4444444444444444,
             "#bd3786"
            ],
            [
             0.5555555555555556,
             "#d8576b"
            ],
            [
             0.6666666666666666,
             "#ed7953"
            ],
            [
             0.7777777777777778,
             "#fb9f3a"
            ],
            [
             0.8888888888888888,
             "#fdca26"
            ],
            [
             1,
             "#f0f921"
            ]
           ]
          },
          "colorway": [
           "#636efa",
           "#EF553B",
           "#00cc96",
           "#ab63fa",
           "#FFA15A",
           "#19d3f3",
           "#FF6692",
           "#B6E880",
           "#FF97FF",
           "#FECB52"
          ],
          "font": {
           "color": "#2a3f5f"
          },
          "geo": {
           "bgcolor": "white",
           "lakecolor": "white",
           "landcolor": "#E5ECF6",
           "showlakes": true,
           "showland": true,
           "subunitcolor": "white"
          },
          "hoverlabel": {
           "align": "left"
          },
          "hovermode": "closest",
          "mapbox": {
           "style": "light"
          },
          "paper_bgcolor": "white",
          "plot_bgcolor": "#E5ECF6",
          "polar": {
           "angularaxis": {
            "gridcolor": "white",
            "linecolor": "white",
            "ticks": ""
           },
           "bgcolor": "#E5ECF6",
           "radialaxis": {
            "gridcolor": "white",
            "linecolor": "white",
            "ticks": ""
           }
          },
          "scene": {
           "xaxis": {
            "backgroundcolor": "#E5ECF6",
            "gridcolor": "white",
            "gridwidth": 2,
            "linecolor": "white",
            "showbackground": true,
            "ticks": "",
            "zerolinecolor": "white"
           },
           "yaxis": {
            "backgroundcolor": "#E5ECF6",
            "gridcolor": "white",
            "gridwidth": 2,
            "linecolor": "white",
            "showbackground": true,
            "ticks": "",
            "zerolinecolor": "white"
           },
           "zaxis": {
            "backgroundcolor": "#E5ECF6",
            "gridcolor": "white",
            "gridwidth": 2,
            "linecolor": "white",
            "showbackground": true,
            "ticks": "",
            "zerolinecolor": "white"
           }
          },
          "shapedefaults": {
           "line": {
            "color": "#2a3f5f"
           }
          },
          "ternary": {
           "aaxis": {
            "gridcolor": "white",
            "linecolor": "white",
            "ticks": ""
           },
           "baxis": {
            "gridcolor": "white",
            "linecolor": "white",
            "ticks": ""
           },
           "bgcolor": "#E5ECF6",
           "caxis": {
            "gridcolor": "white",
            "linecolor": "white",
            "ticks": ""
           }
          },
          "title": {
           "x": 0.05
          },
          "xaxis": {
           "automargin": true,
           "gridcolor": "white",
           "linecolor": "white",
           "ticks": "",
           "title": {
            "standoff": 15
           },
           "zerolinecolor": "white",
           "zerolinewidth": 2
          },
          "yaxis": {
           "automargin": true,
           "gridcolor": "white",
           "linecolor": "white",
           "ticks": "",
           "title": {
            "standoff": 15
           },
           "zerolinecolor": "white",
           "zerolinewidth": 2
          }
         }
        },
        "title": {
         "text": "Average Price Per Sqr Foot in San Francisco"
        }
       }
      },
      "text/html": [
       "<div>                            <div id=\"22b2d4f2-3523-495a-beb0-3de4026e2328\" class=\"plotly-graph-div\" style=\"height:525px; width:100%;\"></div>            <script type=\"text/javascript\">                require([\"plotly\"], function(Plotly) {                    window.PLOTLYENV=window.PLOTLYENV || {};                                    if (document.getElementById(\"22b2d4f2-3523-495a-beb0-3de4026e2328\")) {                    Plotly.newPlot(                        \"22b2d4f2-3523-495a-beb0-3de4026e2328\",                        [{\"hovertemplate\":\"<b>%{hovertext}</b><br><br>sale_price_sqr_foot=%{marker.size}<br>Lat=%{lat}<br>Lon=%{lon}<br>gross_rent=%{marker.color}<extra></extra>\",\"hovertext\":[\"Alamo Square\",\"Anza Vista\",\"Bayview\",\"Bayview Heights\",\"Buena Vista Park\",\"Central Richmond\",\"Central Sunset\",\"Clarendon Heights\",\"Corona Heights\",\"Cow Hollow\",\"Croker Amazon\",\"Diamond Heights\",\"Duboce Triangle\",\"Eureka Valley/Dolores Heights\",\"Excelsior\",\"Financial District North\",\"Financial District South\",\"Forest Knolls\",\"Glen Park\",\"Golden Gate Heights\",\"Haight Ashbury\",\"Hayes Valley\",\"Hunters Point\",\"Ingleside Heights\",\"Inner Mission\",\"Inner Parkside\",\"Inner Richmond\",\"Inner Sunset\",\"Jordan Park/Laurel Heights\",\"Lake --The Presidio\",\"Lone Mountain\",\"Lower Pacific Heights\",\"Marina\",\"Merced Heights\",\"Midtown Terrace\",\"Miraloma Park\",\"Mission Bay\",\"Mission Dolores\",\"Mission Terrace\",\"Nob Hill\",\"Noe Valley\",\"North Beach\",\"North Waterfront\",\"Oceanview\",\"Outer Mission\",\"Outer Parkside\",\"Outer Sunset\",\"Pacific Heights\",\"Park North\",\"Parkside\",\"Parnassus/Ashbury Heights\",\"Portola\",\"Potrero Hill\",\"Presidio Heights\",\"Russian Hill\",\"Silver Terrace\",\"South Beach\",\"South of Market\",\"Sunnyside\",\"Telegraph Hill\",\"Twin Peaks\",\"Union Square District\",\"Van Ness/ Civic Center\",\"Visitacion Valley\",\"West Portal\",\"Western Addition\",\"Westwood Highlands\",\"Westwood Park\",\"Yerba Buena\"],\"lat\":[37.791012,37.779598,37.73467,37.72874,37.76816,37.77789,37.74961,37.75331,37.78553,37.79298,37.7228,37.72863,37.76964,37.75554,37.72874,37.79101,37.79101,37.75706,37.72863,37.757912,37.76525,37.76525,37.72551,37.72116,37.75416,37.74961,37.769112,37.74961,37.78553,37.80152,37.7789,37.79298,37.79972,37.71993,37.75331,37.73415,37.78323,37.75184,37.72863,37.79298,37.75331,37.80055,37.80055,37.71993,37.7228,37.7517,37.74961,37.79298,37.72838,37.74961,37.76355,37.73467,37.73196,37.78553,37.79298,37.73467,37.78323,37.79101,37.73415,37.80055,37.753311,37.79101,37.77951,37.72874,37.74026,37.79298,37.7347,37.73415,37.79298],\"legendgroup\":\"\",\"lon\":[-122.4021,-122.443451,-122.40106,-122.41098,-122.43933,-122.44517,-122.48999,-122.44703,-122.456,-122.43579,-122.43869,-122.44305,-122.42611,-122.43779,-122.41098,-122.4021,-122.4021,-122.45509,-122.44305,-122.46402,-122.43596,-122.43596,-122.37178,-122.48707,-122.41947,-122.48999,-122.483566,-122.48997,-122.456,-122.45457,-122.45496,-122.43579,-122.46689,-122.46595,-122.44703,-122.457,-122.40065,-122.42522,-122.44305,-122.43579,-122.44703,-122.40433,-122.40433,-122.46595,-122.43869,-122.446,-122.48999,-122.43579,-122.47851,-122.48999,-122.45765,-122.40106,-122.38324,-122.456,-122.43579,-122.40106,-122.40065,-122.4021,-122.457,-122.40433,-122.447029,-122.4021,-122.42022,-122.41098,-122.46388,-122.43579,-122.456854,-122.457,-122.39636],\"marker\":{\"color\":[2817.285714285714,3031.8333333333335,2318.4,3739.0,2698.8333333333335,2817.285714285714,2817.285714285714,2250.5,2472.0,2817.285714285714,2698.8333333333335,2016.0,2780.25,2817.285714285714,3031.8333333333335,2817.285714285714,2472.0,1781.5,2899.5,2601.4,2817.285714285714,2817.285714285714,2489.0,2960.0,2817.285714285714,3224.0,2817.285714285714,2817.285714285714,2817.285714285714,2555.1666666666665,2555.1666666666665,2817.285714285714,2817.285714285714,3414.0,2647.5,2155.25,2663.6666666666665,2555.1666666666665,3173.4,2817.285714285714,2817.285714285714,2990.8,2818.4,2434.0,2995.75,2817.285714285714,2817.285714285714,2817.285714285714,2817.285714285714,2555.1666666666665,2817.285714285714,2318.4,2817.285714285714,2817.285714285714,2817.285714285714,3528.0,2099.0,2817.285714285714,2899.5,2817.285714285714,2817.285714285714,2555.1666666666665,2817.285714285714,3657.0,2515.5,2555.1666666666665,2250.5,3959.0,2555.1666666666665],\"coloraxis\":\"coloraxis\",\"size\":[366.02071153227644,373.382197826477,204.58862288246596,590.7928388746803,452.6805909308441,394.42239878005887,423.68792770158234,487.2448860262576,587.5390673661739,665.9640415783227,303.0041844084943,434.9917394452212,502.59915555623616,642.2486706357391,388.7659270023075,391.36253308010487,455.83621223779153,321.84083657398736,623.8261775374349,639.3935574881156,449.5447622856192,355.93282794805776,170.62491987132685,384.7979281346047,397.67371473613446,519.3856038526768,378.5943139613646,413.66751546215943,529.3841850673389,409.95435219297514,478.2285530213679,539.237968878326,583.7492694814548,788.8448175872469,550.5103482917151,779.810842264425,566.1922135483312,418.9156225067234,523.4662013248023,458.2040944846015,542.4429128151736,411.646875881678,498.2697550078768,330.0973846552545,242.37095202049665,485.0270126111035,394.21903228550775,689.5558168113664,373.73285637176303,336.172661037069,632.740453508577,327.1139253464728,662.0136128276529,675.3502120510033,608.9832172374425,170.2925485152069,650.1244791945729,570.2714266991686,528.3183317138463,676.5065775293257,469.39862649935156,903.9932576720645,404.1501801622257,301.46617997450267,498.4884848295011,307.5622009799607,533.7039354359513,687.0875745178322,576.709848378276],\"sizemode\":\"area\",\"sizeref\":4.017747811875842},\"mode\":\"markers\",\"name\":\"\",\"showlegend\":false,\"subplot\":\"mapbox\",\"type\":\"scattermapbox\"}],                        {\"template\":{\"data\":{\"bar\":[{\"error_x\":{\"color\":\"#2a3f5f\"},\"error_y\":{\"color\":\"#2a3f5f\"},\"marker\":{\"line\":{\"color\":\"#E5ECF6\",\"width\":0.5},\"pattern\":{\"fillmode\":\"overlay\",\"size\":10,\"solidity\":0.2}},\"type\":\"bar\"}],\"barpolar\":[{\"marker\":{\"line\":{\"color\":\"#E5ECF6\",\"width\":0.5},\"pattern\":{\"fillmode\":\"overlay\",\"size\":10,\"solidity\":0.2}},\"type\":\"barpolar\"}],\"carpet\":[{\"aaxis\":{\"endlinecolor\":\"#2a3f5f\",\"gridcolor\":\"white\",\"linecolor\":\"white\",\"minorgridcolor\":\"white\",\"startlinecolor\":\"#2a3f5f\"},\"baxis\":{\"endlinecolor\":\"#2a3f5f\",\"gridcolor\":\"white\",\"linecolor\":\"white\",\"minorgridcolor\":\"white\",\"startlinecolor\":\"#2a3f5f\"},\"type\":\"carpet\"}],\"choropleth\":[{\"colorbar\":{\"outlinewidth\":0,\"ticks\":\"\"},\"type\":\"choropleth\"}],\"contour\":[{\"colorbar\":{\"outlinewidth\":0,\"ticks\":\"\"},\"colorscale\":[[0.0,\"#0d0887\"],[0.1111111111111111,\"#46039f\"],[0.2222222222222222,\"#7201a8\"],[0.3333333333333333,\"#9c179e\"],[0.4444444444444444,\"#bd3786\"],[0.5555555555555556,\"#d8576b\"],[0.6666666666666666,\"#ed7953\"],[0.7777777777777778,\"#fb9f3a\"],[0.8888888888888888,\"#fdca26\"],[1.0,\"#f0f921\"]],\"type\":\"contour\"}],\"contourcarpet\":[{\"colorbar\":{\"outlinewidth\":0,\"ticks\":\"\"},\"type\":\"contourcarpet\"}],\"heatmap\":[{\"colorbar\":{\"outlinewidth\":0,\"ticks\":\"\"},\"colorscale\":[[0.0,\"#0d0887\"],[0.1111111111111111,\"#46039f\"],[0.2222222222222222,\"#7201a8\"],[0.3333333333333333,\"#9c179e\"],[0.4444444444444444,\"#bd3786\"],[0.5555555555555556,\"#d8576b\"],[0.6666666666666666,\"#ed7953\"],[0.7777777777777778,\"#fb9f3a\"],[0.8888888888888888,\"#fdca26\"],[1.0,\"#f0f921\"]],\"type\":\"heatmap\"}],\"heatmapgl\":[{\"colorbar\":{\"outlinewidth\":0,\"ticks\":\"\"},\"colorscale\":[[0.0,\"#0d0887\"],[0.1111111111111111,\"#46039f\"],[0.2222222222222222,\"#7201a8\"],[0.3333333333333333,\"#9c179e\"],[0.4444444444444444,\"#bd3786\"],[0.5555555555555556,\"#d8576b\"],[0.6666666666666666,\"#ed7953\"],[0.7777777777777778,\"#fb9f3a\"],[0.8888888888888888,\"#fdca26\"],[1.0,\"#f0f921\"]],\"type\":\"heatmapgl\"}],\"histogram\":[{\"marker\":{\"pattern\":{\"fillmode\":\"overlay\",\"size\":10,\"solidity\":0.2}},\"type\":\"histogram\"}],\"histogram2d\":[{\"colorbar\":{\"outlinewidth\":0,\"ticks\":\"\"},\"colorscale\":[[0.0,\"#0d0887\"],[0.1111111111111111,\"#46039f\"],[0.2222222222222222,\"#7201a8\"],[0.3333333333333333,\"#9c179e\"],[0.4444444444444444,\"#bd3786\"],[0.5555555555555556,\"#d8576b\"],[0.6666666666666666,\"#ed7953\"],[0.7777777777777778,\"#fb9f3a\"],[0.8888888888888888,\"#fdca26\"],[1.0,\"#f0f921\"]],\"type\":\"histogram2d\"}],\"histogram2dcontour\":[{\"colorbar\":{\"outlinewidth\":0,\"ticks\":\"\"},\"colorscale\":[[0.0,\"#0d0887\"],[0.1111111111111111,\"#46039f\"],[0.2222222222222222,\"#7201a8\"],[0.3333333333333333,\"#9c179e\"],[0.4444444444444444,\"#bd3786\"],[0.5555555555555556,\"#d8576b\"],[0.6666666666666666,\"#ed7953\"],[0.7777777777777778,\"#fb9f3a\"],[0.8888888888888888,\"#fdca26\"],[1.0,\"#f0f921\"]],\"type\":\"histogram2dcontour\"}],\"mesh3d\":[{\"colorbar\":{\"outlinewidth\":0,\"ticks\":\"\"},\"type\":\"mesh3d\"}],\"parcoords\":[{\"line\":{\"colorbar\":{\"outlinewidth\":0,\"ticks\":\"\"}},\"type\":\"parcoords\"}],\"pie\":[{\"automargin\":true,\"type\":\"pie\"}],\"scatter\":[{\"marker\":{\"colorbar\":{\"outlinewidth\":0,\"ticks\":\"\"}},\"type\":\"scatter\"}],\"scatter3d\":[{\"line\":{\"colorbar\":{\"outlinewidth\":0,\"ticks\":\"\"}},\"marker\":{\"colorbar\":{\"outlinewidth\":0,\"ticks\":\"\"}},\"type\":\"scatter3d\"}],\"scattercarpet\":[{\"marker\":{\"colorbar\":{\"outlinewidth\":0,\"ticks\":\"\"}},\"type\":\"scattercarpet\"}],\"scattergeo\":[{\"marker\":{\"colorbar\":{\"outlinewidth\":0,\"ticks\":\"\"}},\"type\":\"scattergeo\"}],\"scattergl\":[{\"marker\":{\"colorbar\":{\"outlinewidth\":0,\"ticks\":\"\"}},\"type\":\"scattergl\"}],\"scattermapbox\":[{\"marker\":{\"colorbar\":{\"outlinewidth\":0,\"ticks\":\"\"}},\"type\":\"scattermapbox\"}],\"scatterpolar\":[{\"marker\":{\"colorbar\":{\"outlinewidth\":0,\"ticks\":\"\"}},\"type\":\"scatterpolar\"}],\"scatterpolargl\":[{\"marker\":{\"colorbar\":{\"outlinewidth\":0,\"ticks\":\"\"}},\"type\":\"scatterpolargl\"}],\"scatterternary\":[{\"marker\":{\"colorbar\":{\"outlinewidth\":0,\"ticks\":\"\"}},\"type\":\"scatterternary\"}],\"surface\":[{\"colorbar\":{\"outlinewidth\":0,\"ticks\":\"\"},\"colorscale\":[[0.0,\"#0d0887\"],[0.1111111111111111,\"#46039f\"],[0.2222222222222222,\"#7201a8\"],[0.3333333333333333,\"#9c179e\"],[0.4444444444444444,\"#bd3786\"],[0.5555555555555556,\"#d8576b\"],[0.6666666666666666,\"#ed7953\"],[0.7777777777777778,\"#fb9f3a\"],[0.8888888888888888,\"#fdca26\"],[1.0,\"#f0f921\"]],\"type\":\"surface\"}],\"table\":[{\"cells\":{\"fill\":{\"color\":\"#EBF0F8\"},\"line\":{\"color\":\"white\"}},\"header\":{\"fill\":{\"color\":\"#C8D4E3\"},\"line\":{\"color\":\"white\"}},\"type\":\"table\"}]},\"layout\":{\"annotationdefaults\":{\"arrowcolor\":\"#2a3f5f\",\"arrowhead\":0,\"arrowwidth\":1},\"autotypenumbers\":\"strict\",\"coloraxis\":{\"colorbar\":{\"outlinewidth\":0,\"ticks\":\"\"}},\"colorscale\":{\"diverging\":[[0,\"#8e0152\"],[0.1,\"#c51b7d\"],[0.2,\"#de77ae\"],[0.3,\"#f1b6da\"],[0.4,\"#fde0ef\"],[0.5,\"#f7f7f7\"],[0.6,\"#e6f5d0\"],[0.7,\"#b8e186\"],[0.8,\"#7fbc41\"],[0.9,\"#4d9221\"],[1,\"#276419\"]],\"sequential\":[[0.0,\"#0d0887\"],[0.1111111111111111,\"#46039f\"],[0.2222222222222222,\"#7201a8\"],[0.3333333333333333,\"#9c179e\"],[0.4444444444444444,\"#bd3786\"],[0.5555555555555556,\"#d8576b\"],[0.6666666666666666,\"#ed7953\"],[0.7777777777777778,\"#fb9f3a\"],[0.8888888888888888,\"#fdca26\"],[1.0,\"#f0f921\"]],\"sequentialminus\":[[0.0,\"#0d0887\"],[0.1111111111111111,\"#46039f\"],[0.2222222222222222,\"#7201a8\"],[0.3333333333333333,\"#9c179e\"],[0.4444444444444444,\"#bd3786\"],[0.5555555555555556,\"#d8576b\"],[0.6666666666666666,\"#ed7953\"],[0.7777777777777778,\"#fb9f3a\"],[0.8888888888888888,\"#fdca26\"],[1.0,\"#f0f921\"]]},\"colorway\":[\"#636efa\",\"#EF553B\",\"#00cc96\",\"#ab63fa\",\"#FFA15A\",\"#19d3f3\",\"#FF6692\",\"#B6E880\",\"#FF97FF\",\"#FECB52\"],\"font\":{\"color\":\"#2a3f5f\"},\"geo\":{\"bgcolor\":\"white\",\"lakecolor\":\"white\",\"landcolor\":\"#E5ECF6\",\"showlakes\":true,\"showland\":true,\"subunitcolor\":\"white\"},\"hoverlabel\":{\"align\":\"left\"},\"hovermode\":\"closest\",\"mapbox\":{\"style\":\"light\"},\"paper_bgcolor\":\"white\",\"plot_bgcolor\":\"#E5ECF6\",\"polar\":{\"angularaxis\":{\"gridcolor\":\"white\",\"linecolor\":\"white\",\"ticks\":\"\"},\"bgcolor\":\"#E5ECF6\",\"radialaxis\":{\"gridcolor\":\"white\",\"linecolor\":\"white\",\"ticks\":\"\"}},\"scene\":{\"xaxis\":{\"backgroundcolor\":\"#E5ECF6\",\"gridcolor\":\"white\",\"gridwidth\":2,\"linecolor\":\"white\",\"showbackground\":true,\"ticks\":\"\",\"zerolinecolor\":\"white\"},\"yaxis\":{\"backgroundcolor\":\"#E5ECF6\",\"gridcolor\":\"white\",\"gridwidth\":2,\"linecolor\":\"white\",\"showbackground\":true,\"ticks\":\"\",\"zerolinecolor\":\"white\"},\"zaxis\":{\"backgroundcolor\":\"#E5ECF6\",\"gridcolor\":\"white\",\"gridwidth\":2,\"linecolor\":\"white\",\"showbackground\":true,\"ticks\":\"\",\"zerolinecolor\":\"white\"}},\"shapedefaults\":{\"line\":{\"color\":\"#2a3f5f\"}},\"ternary\":{\"aaxis\":{\"gridcolor\":\"white\",\"linecolor\":\"white\",\"ticks\":\"\"},\"baxis\":{\"gridcolor\":\"white\",\"linecolor\":\"white\",\"ticks\":\"\"},\"bgcolor\":\"#E5ECF6\",\"caxis\":{\"gridcolor\":\"white\",\"linecolor\":\"white\",\"ticks\":\"\"}},\"title\":{\"x\":0.05},\"xaxis\":{\"automargin\":true,\"gridcolor\":\"white\",\"linecolor\":\"white\",\"ticks\":\"\",\"title\":{\"standoff\":15},\"zerolinecolor\":\"white\",\"zerolinewidth\":2},\"yaxis\":{\"automargin\":true,\"gridcolor\":\"white\",\"linecolor\":\"white\",\"ticks\":\"\",\"title\":{\"standoff\":15},\"zerolinecolor\":\"white\",\"zerolinewidth\":2}}},\"mapbox\":{\"domain\":{\"x\":[0.0,1.0],\"y\":[0.0,1.0]},\"center\":{\"lat\":37.76064079710145,\"lon\":-122.43826449275363},\"zoom\":11},\"coloraxis\":{\"colorbar\":{\"title\":{\"text\":\"gross_rent\"}},\"colorscale\":[[0.0,\"#000000\"],[0.0625,\"#001f4d\"],[0.125,\"#003786\"],[0.1875,\"#0e58a8\"],[0.25,\"#217eb8\"],[0.3125,\"#30a4ca\"],[0.375,\"#54c8df\"],[0.4375,\"#9be4ef\"],[0.5,\"#e1e9d1\"],[0.5625,\"#f3d573\"],[0.625,\"#e7b000\"],[0.6875,\"#da8200\"],[0.75,\"#c65400\"],[0.8125,\"#ac2301\"],[0.875,\"#820000\"],[0.9375,\"#4c0000\"],[1.0,\"#000000\"]]},\"legend\":{\"tracegroupgap\":0,\"itemsizing\":\"constant\"},\"title\":{\"text\":\"Average Price Per Sqr Foot in San Francisco\"}},                        {\"responsive\": true}                    ).then(function(){\n",
       "                            \n",
       "var gd = document.getElementById('22b2d4f2-3523-495a-beb0-3de4026e2328');\n",
       "var x = new MutationObserver(function (mutations, observer) {{\n",
       "        var display = window.getComputedStyle(gd).display;\n",
       "        if (!display || display === 'none') {{\n",
       "            console.log([gd, 'removed!']);\n",
       "            Plotly.purge(gd);\n",
       "            observer.disconnect();\n",
       "        }}\n",
       "}});\n",
       "\n",
       "// Listen for the removal of the full notebook cells\n",
       "var notebookContainer = gd.closest('#notebook-container');\n",
       "if (notebookContainer) {{\n",
       "    x.observe(notebookContainer, {childList: true});\n",
       "}}\n",
       "\n",
       "// Listen for the clearing of the current output cell\n",
       "var outputEl = gd.closest('.output');\n",
       "if (outputEl) {{\n",
       "    x.observe(outputEl, {childList: true});\n",
       "}}\n",
       "\n",
       "                        })                };                });            </script>        </div>"
      ]
     },
     "metadata": {},
     "output_type": "display_data"
    }
   ],
   "source": [
    "#final neighborhood code\n",
    "neighborhood_map.show()\n"
   ]
  },
  {
   "cell_type": "markdown",
   "metadata": {},
   "source": [
    "## Panel Dashboard\n",
    "\n",
    "In this section, you will combine all of the plots into a single dashboard view using Panel. Be creative with your dashboard design!"
   ]
  },
  {
   "cell_type": "code",
   "execution_count": 12,
   "metadata": {},
   "outputs": [],
   "source": [
    "# Create a Title for the Dashboard\n",
    "# YOUR CODE HERE!\n",
    "\n",
    "\n",
    "# Create a tab layout for the dashboard\n",
    "# YOUR CODE HERE!\n",
    "\n",
    "\n",
    "# Create the dashboard\n",
    "# YOUR CODE HERE!"
   ]
  },
  {
   "cell_type": "markdown",
   "metadata": {},
   "source": [
    "## Serve the Panel Dashboard"
   ]
  },
  {
   "cell_type": "code",
   "execution_count": 13,
   "metadata": {},
   "outputs": [],
   "source": [
    "# Serve the# dashboard\n",
    "# YOUR CODE HERE!"
   ]
  },
  {
   "cell_type": "markdown",
   "metadata": {},
   "source": [
    "# Debugging\n",
    "\n",
    "Note: Some of the Plotly express plots may not render in the notebook through the panel functions.\n",
    "\n",
    "However, you can test each plot by uncommenting the following code"
   ]
  },
  {
   "cell_type": "code",
   "execution_count": null,
   "metadata": {},
   "outputs": [],
   "source": [
    "# housing_units_per_year()"
   ]
  },
  {
   "cell_type": "code",
   "execution_count": null,
   "metadata": {},
   "outputs": [],
   "source": [
    "# average_gross_rent()"
   ]
  },
  {
   "cell_type": "code",
   "execution_count": null,
   "metadata": {},
   "outputs": [],
   "source": [
    "# average_sales_price()"
   ]
  },
  {
   "cell_type": "code",
   "execution_count": null,
   "metadata": {},
   "outputs": [],
   "source": [
    "# average_price_by_neighborhood()"
   ]
  },
  {
   "cell_type": "code",
   "execution_count": null,
   "metadata": {},
   "outputs": [],
   "source": [
    "# top_most_expensive_neighborhoods()"
   ]
  },
  {
   "cell_type": "code",
   "execution_count": null,
   "metadata": {},
   "outputs": [],
   "source": [
    "# most_expensive_neighborhoods_rent_sales()"
   ]
  },
  {
   "cell_type": "code",
   "execution_count": null,
   "metadata": {},
   "outputs": [],
   "source": [
    "# neighborhood_map().show()"
   ]
  },
  {
   "cell_type": "code",
   "execution_count": null,
   "metadata": {},
   "outputs": [],
   "source": [
    "# parallel_categories()"
   ]
  },
  {
   "cell_type": "code",
   "execution_count": null,
   "metadata": {},
   "outputs": [],
   "source": [
    "# parallel_coordinates()"
   ]
  },
  {
   "cell_type": "code",
   "execution_count": null,
   "metadata": {},
   "outputs": [],
   "source": [
    "# sunburst()"
   ]
  },
  {
   "cell_type": "code",
   "execution_count": null,
   "metadata": {},
   "outputs": [],
   "source": []
  }
 ],
 "metadata": {
  "file_extension": ".py",
  "kernelspec": {
   "display_name": "Python 3 (ipykernel)",
   "language": "python",
   "name": "python3"
  },
  "language_info": {
   "codemirror_mode": {
    "name": "ipython",
    "version": 3
   },
   "file_extension": ".py",
   "mimetype": "text/x-python",
   "name": "python",
   "nbconvert_exporter": "python",
   "pygments_lexer": "ipython3",
   "version": "3.7.11"
  },
  "mimetype": "text/x-python",
  "name": "python",
  "npconvert_exporter": "python",
  "pygments_lexer": "ipython3",
  "version": 3
 },
 "nbformat": 4,
 "nbformat_minor": 4
}
